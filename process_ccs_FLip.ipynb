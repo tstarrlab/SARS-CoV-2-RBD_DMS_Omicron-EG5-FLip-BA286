{
 "cells": [
  {
   "cell_type": "markdown",
   "metadata": {
    "toc": true
   },
   "source": [
    "<h1>Table of Contents<span class=\"tocSkip\"></span></h1>\n",
    "<div class=\"toc\"><ul class=\"toc-item\"><li><span><a href=\"#Process-CCSs\" data-toc-modified-id=\"Process-CCSs-1\">Process CCSs</a></span><ul class=\"toc-item\"><li><span><a href=\"#Setup\" data-toc-modified-id=\"Setup-1.1\">Setup</a></span></li><li><span><a href=\"#PacBio-amplicons\" data-toc-modified-id=\"PacBio-amplicons-1.2\">PacBio amplicons</a></span></li><li><span><a href=\"#CCS-stats-for-PacBio-runs\" data-toc-modified-id=\"CCS-stats-for-PacBio-runs-1.3\">CCS stats for PacBio runs</a></span></li><li><span><a href=\"#Align-CCSs-to-amplicons\" data-toc-modified-id=\"Align-CCSs-to-amplicons-1.4\">Align CCSs to amplicons</a></span></li><li><span><a href=\"#Write-valid-CCSs\" data-toc-modified-id=\"Write-valid-CCSs-1.5\">Write valid CCSs</a></span></li></ul></li></ul></div>"
   ]
  },
  {
   "cell_type": "markdown",
   "metadata": {},
   "source": [
    "This Python Jupyter notebook processes the PacBio circular consensus sequences (CCSs) to extract barcodes and call mutations in the gene. It then builds consensus sequences for barcoded variants from the mutations, to build a barcode-variant lookup table."
   ]
  },
  {
   "cell_type": "markdown",
   "metadata": {},
   "source": [
    "# Process CCSs\n",
    "First, process the PacBio CCSs to extract barcodes and call mutations in the gene."
   ]
  },
  {
   "cell_type": "markdown",
   "metadata": {},
   "source": [
    "Define the background for CCS mapping"
   ]
  },
  {
   "cell_type": "code",
   "execution_count": 1,
   "metadata": {
    "execution": {
     "iopub.execute_input": "2024-02-16T00:33:25.039681Z",
     "iopub.status.busy": "2024-02-16T00:33:25.039280Z",
     "iopub.status.idle": "2024-02-16T00:33:25.050024Z",
     "shell.execute_reply": "2024-02-16T00:33:25.049342Z"
    }
   },
   "outputs": [],
   "source": [
    "background = \"FLip\""
   ]
  },
  {
   "cell_type": "markdown",
   "metadata": {},
   "source": [
    "## Setup\n",
    "\n",
    "Import Python modules\n",
    "\n",
    "Plotting is done with [plotnine](https://plotnine.readthedocs.io/en/stable/), which uses ggplot2-like syntax.\n",
    "\n",
    "The analysis uses the Bloom lab's [alignparse](https://jbloomlab.github.io/alignparse) and [dms_variants](https://jbloomlab.github.io/dms_variants) packages."
   ]
  },
  {
   "cell_type": "code",
   "execution_count": 2,
   "metadata": {
    "execution": {
     "iopub.execute_input": "2024-02-16T00:33:25.053364Z",
     "iopub.status.busy": "2024-02-16T00:33:25.052960Z",
     "iopub.status.idle": "2024-02-16T00:33:28.252083Z",
     "shell.execute_reply": "2024-02-16T00:33:28.251301Z"
    }
   },
   "outputs": [],
   "source": [
    "import collections\n",
    "import math\n",
    "import os\n",
    "import re\n",
    "import time\n",
    "import warnings\n",
    "\n",
    "import alignparse\n",
    "import alignparse.ccs\n",
    "from alignparse.constants import CBPALETTE\n",
    "import alignparse.minimap2\n",
    "import alignparse.targets\n",
    "import alignparse.consensus\n",
    "import alignparse.utils\n",
    "\n",
    "import dms_variants\n",
    "import dms_variants.codonvarianttable\n",
    "import dms_variants.plotnine_themes\n",
    "import dms_variants.utils\n",
    "\n",
    "from IPython.display import display, HTML\n",
    "\n",
    "import numpy\n",
    "\n",
    "import pandas as pd\n",
    "\n",
    "from plotnine import *\n",
    "\n",
    "import yaml\n",
    "\n",
    "%matplotlib inline"
   ]
  },
  {
   "cell_type": "markdown",
   "metadata": {},
   "source": [
    "Set [plotnine](https://plotnine.readthedocs.io/en/stable/) theme to the one defined in [dms_variants](https://jbloomlab.github.io/dms_variants):"
   ]
  },
  {
   "cell_type": "code",
   "execution_count": 3,
   "metadata": {
    "execution": {
     "iopub.execute_input": "2024-02-16T00:33:28.255964Z",
     "iopub.status.busy": "2024-02-16T00:33:28.255478Z",
     "iopub.status.idle": "2024-02-16T00:33:28.261151Z",
     "shell.execute_reply": "2024-02-16T00:33:28.260466Z"
    }
   },
   "outputs": [],
   "source": [
    "theme_set(dms_variants.plotnine_themes.theme_graygrid())"
   ]
  },
  {
   "cell_type": "markdown",
   "metadata": {},
   "source": [
    "Versions of key software:"
   ]
  },
  {
   "cell_type": "code",
   "execution_count": 4,
   "metadata": {
    "execution": {
     "iopub.execute_input": "2024-02-16T00:33:28.264439Z",
     "iopub.status.busy": "2024-02-16T00:33:28.264036Z",
     "iopub.status.idle": "2024-02-16T00:33:28.268560Z",
     "shell.execute_reply": "2024-02-16T00:33:28.267857Z"
    }
   },
   "outputs": [
    {
     "name": "stdout",
     "output_type": "stream",
     "text": [
      "Using alignparse version 0.6.0\n",
      "Using dms_variants version 1.4.3\n",
      "Using pandas version 1.3.5\n"
     ]
    }
   ],
   "source": [
    "print(f\"Using alignparse version {alignparse.__version__}\")\n",
    "print(f\"Using dms_variants version {dms_variants.__version__}\")\n",
    "print(f\"Using pandas version {pd.__version__}\")"
   ]
  },
  {
   "cell_type": "markdown",
   "metadata": {},
   "source": [
    "Ignore warnings that clutter output:"
   ]
  },
  {
   "cell_type": "code",
   "execution_count": 5,
   "metadata": {
    "execution": {
     "iopub.execute_input": "2024-02-16T00:33:28.325330Z",
     "iopub.status.busy": "2024-02-16T00:33:28.324894Z",
     "iopub.status.idle": "2024-02-16T00:33:28.328412Z",
     "shell.execute_reply": "2024-02-16T00:33:28.327725Z"
    }
   },
   "outputs": [],
   "source": [
    "warnings.simplefilter('ignore')"
   ]
  },
  {
   "cell_type": "markdown",
   "metadata": {},
   "source": [
    "Read the configuration file:"
   ]
  },
  {
   "cell_type": "code",
   "execution_count": 6,
   "metadata": {
    "execution": {
     "iopub.execute_input": "2024-02-16T00:33:28.331831Z",
     "iopub.status.busy": "2024-02-16T00:33:28.331250Z",
     "iopub.status.idle": "2024-02-16T00:33:28.354566Z",
     "shell.execute_reply": "2024-02-16T00:33:28.353875Z"
    }
   },
   "outputs": [],
   "source": [
    "with open('config.yaml') as f:\n",
    "    config = yaml.safe_load(f)"
   ]
  },
  {
   "cell_type": "markdown",
   "metadata": {},
   "source": [
    "Make output directory for figures:"
   ]
  },
  {
   "cell_type": "code",
   "execution_count": 7,
   "metadata": {
    "execution": {
     "iopub.execute_input": "2024-02-16T00:33:28.357930Z",
     "iopub.status.busy": "2024-02-16T00:33:28.357389Z",
     "iopub.status.idle": "2024-02-16T00:33:28.361313Z",
     "shell.execute_reply": "2024-02-16T00:33:28.360636Z"
    }
   },
   "outputs": [],
   "source": [
    "os.makedirs(config['process_ccs_dir'], exist_ok=True)"
   ]
  },
  {
   "cell_type": "markdown",
   "metadata": {},
   "source": [
    "## PacBio reads\n",
    "Get the amplicons sequenced by PacBio as the alignment target along with the specs on how to parse the features:"
   ]
  },
  {
   "cell_type": "code",
   "execution_count": 8,
   "metadata": {
    "execution": {
     "iopub.execute_input": "2024-02-16T00:33:28.364537Z",
     "iopub.status.busy": "2024-02-16T00:33:28.364135Z",
     "iopub.status.idle": "2024-02-16T00:33:28.384036Z",
     "shell.execute_reply": "2024-02-16T00:33:28.383305Z"
    }
   },
   "outputs": [
    {
     "data": {
      "text/html": [
       "<table border=\"1\" class=\"dataframe\">\n",
       "  <thead>\n",
       "    <tr style=\"text-align: right;\">\n",
       "      <th>library</th>\n",
       "      <th>bg</th>\n",
       "      <th>run</th>\n",
       "      <th>name</th>\n",
       "      <th>fastq</th>\n",
       "    </tr>\n",
       "  </thead>\n",
       "  <tbody>\n",
       "    <tr>\n",
       "      <td>pool1</td>\n",
       "      <td>FLip</td>\n",
       "      <td>240207</td>\n",
       "      <td>pool1_FLip_240207</td>\n",
       "      <td>results/ccs/pool1_FLip_240207_ccs.fastq.gz</td>\n",
       "    </tr>\n",
       "    <tr>\n",
       "      <td>pool2</td>\n",
       "      <td>FLip</td>\n",
       "      <td>240207</td>\n",
       "      <td>pool2_FLip_240207</td>\n",
       "      <td>results/ccs/pool2_FLip_240207_ccs.fastq.gz</td>\n",
       "    </tr>\n",
       "  </tbody>\n",
       "</table>"
      ],
      "text/plain": [
       "<IPython.core.display.HTML object>"
      ]
     },
     "metadata": {},
     "output_type": "display_data"
    }
   ],
   "source": [
    "pacbio_runs = (\n",
    "    pd.read_csv(config['pacbio_runs'], dtype=str)\n",
    "    .drop(columns=['ccs'])\n",
    "    .assign(name=lambda x: x['library'] + '_' + x['bg'] + '_' + x['run'],\n",
    "            fastq=lambda x: config['ccs_dir'] + '/' + x['name'] + '_ccs.fastq.gz'\n",
    "            )\n",
    "    )\n",
    " \n",
    "pacbio_runs.drop(pacbio_runs[pacbio_runs['bg'] != background].index,inplace=True)\n",
    "\n",
    "display(HTML(pacbio_runs.to_html(index=False)))"
   ]
  },
  {
   "cell_type": "markdown",
   "metadata": {},
   "source": [
    "## PacBio amplicons\n",
    "Get the amplicons sequenced by PacBio as the alignment target along with the specs on how to parse the features:"
   ]
  },
  {
   "cell_type": "code",
   "execution_count": 9,
   "metadata": {
    "execution": {
     "iopub.execute_input": "2024-02-16T00:33:28.387304Z",
     "iopub.status.busy": "2024-02-16T00:33:28.386906Z",
     "iopub.status.idle": "2024-02-16T00:33:28.414164Z",
     "shell.execute_reply": "2024-02-16T00:33:28.413467Z"
    }
   },
   "outputs": [
    {
     "name": "stdout",
     "output_type": "stream",
     "text": [
      "Reading amplicons from data/PacBio_amplicon_FLip.gb\n",
      "Reading feature parse specs from data/feature_parse_specs_FLip.yaml\n"
     ]
    }
   ],
   "source": [
    "print(f\"Reading amplicons from {config['amplicons_' + background]}\")\n",
    "print(f\"Reading feature parse specs from {config['feature_parse_specs_' + background]}\")\n",
    "\n",
    "targets = alignparse.targets.Targets(\n",
    "                seqsfile=config['amplicons_' + background],\n",
    "                feature_parse_specs=config['feature_parse_specs_' + background])"
   ]
  },
  {
   "cell_type": "markdown",
   "metadata": {},
   "source": [
    "Draw the target amplicons:"
   ]
  },
  {
   "cell_type": "code",
   "execution_count": 10,
   "metadata": {
    "execution": {
     "iopub.execute_input": "2024-02-16T00:33:28.417422Z",
     "iopub.status.busy": "2024-02-16T00:33:28.417024Z",
     "iopub.status.idle": "2024-02-16T00:33:28.751544Z",
     "shell.execute_reply": "2024-02-16T00:33:28.750859Z"
    }
   },
   "outputs": [
    {
     "name": "stdout",
     "output_type": "stream",
     "text": [
      "Saving plot to results/process_ccs/amplicons_FLip.pdf\n"
     ]
    },
    {
     "data": {
      "image/png": "[encoded data removed]",
      "text/plain": [
       "<Figure size 700x200 with 1 Axes>"
      ]
     },
     "metadata": {},
     "output_type": "display_data"
    }
   ],
   "source": [
    "fig = targets.plot(ax_width=7,\n",
    "                   plots_indexing='biopython',  # numbering starts at 0\n",
    "                   ax_height=2,  # height of each plot\n",
    "                   hspace=1.2,  # vertical space between plots\n",
    "                   )\n",
    "\n",
    "plotfile = os.path.join(config['process_ccs_dir'], 'amplicons_'+background+'.pdf')\n",
    "print(f\"Saving plot to {plotfile}\")\n",
    "fig.savefig(plotfile, bbox_inches='tight')"
   ]
  },
  {
   "cell_type": "markdown",
   "metadata": {},
   "source": [
    "Write out the specs used to parse the features (these are the same specs provided as `feature_parse_specs` when initializing `targets`, but with defaults filled in):"
   ]
  },
  {
   "cell_type": "code",
   "execution_count": 11,
   "metadata": {
    "execution": {
     "iopub.execute_input": "2024-02-16T00:33:28.755078Z",
     "iopub.status.busy": "2024-02-16T00:33:28.754485Z",
     "iopub.status.idle": "2024-02-16T00:33:28.762985Z",
     "shell.execute_reply": "2024-02-16T00:33:28.762281Z"
    }
   },
   "outputs": [
    {
     "name": "stdout",
     "output_type": "stream",
     "text": [
      "FLip:\n",
      "  query_clip5: 4\n",
      "  query_clip3: 4\n",
      "  termini5:\n",
      "    filter:\n",
      "      clip5: 4\n",
      "      mutation_nt_count: 1\n",
      "      mutation_op_count: null\n",
      "      clip3: 0\n",
      "    return: []\n",
      "  gene:\n",
      "    filter:\n",
      "      mutation_nt_count: 90\n",
      "      mutation_op_count: null\n",
      "      clip5: 0\n",
      "      clip3: 0\n",
      "    return:\n",
      "    - mutations\n",
      "    - accuracy\n",
      "  spacer:\n",
      "    filter:\n",
      "      mutation_nt_count: 1\n",
      "      mutation_op_count: null\n",
      "      clip5: 0\n",
      "      clip3: 0\n",
      "    return: []\n",
      "  barcode:\n",
      "    filter:\n",
      "      mutation_nt_count: 0\n",
      "      mutation_op_count: null\n",
      "      clip5: 0\n",
      "      clip3: 0\n",
      "    return:\n",
      "    - sequence\n",
      "    - accuracy\n",
      "  termini3:\n",
      "    filter:\n",
      "      clip3: 4\n",
      "      mutation_nt_count: 1\n",
      "      mutation_op_count: null\n",
      "      clip5: 0\n",
      "    return: []\n",
      "\n"
     ]
    }
   ],
   "source": [
    "print(targets.feature_parse_specs('yaml'))"
   ]
  },
  {
   "cell_type": "markdown",
   "metadata": {},
   "source": [
    "## Align CCSs to amplicons\n",
    "We now align the CCSs to the amplicon and parse features from the resulting alignments using the specs above.\n",
    "\n",
    "First, we initialize an `alignparse.minimap2.Mapper` to align the reads to SAM files:"
   ]
  },
  {
   "cell_type": "code",
   "execution_count": 12,
   "metadata": {
    "execution": {
     "iopub.execute_input": "2024-02-16T00:33:28.766280Z",
     "iopub.status.busy": "2024-02-16T00:33:28.765881Z",
     "iopub.status.idle": "2024-02-16T00:33:28.782962Z",
     "shell.execute_reply": "2024-02-16T00:33:28.782084Z"
    }
   },
   "outputs": [
    {
     "name": "stdout",
     "output_type": "stream",
     "text": [
      "Using `minimap2` 2.26-r1175 with these options:\n",
      "-A2 -B4 -O12 -E2 --end-bonus=13 --secondary=no --cs\n"
     ]
    }
   ],
   "source": [
    "mapper = alignparse.minimap2.Mapper(alignparse.minimap2.OPTIONS_CODON_DMS)\n",
    "\n",
    "print(f\"Using `minimap2` {mapper.version} with these options:\\n\" +\n",
    "      ' '.join(mapper.options))"
   ]
  },
  {
   "cell_type": "markdown",
   "metadata": {},
   "source": [
    "Next, we use `Targets.align_and_parse` to create the alignments and parse them:"
   ]
  },
  {
   "cell_type": "code",
   "execution_count": 13,
   "metadata": {
    "execution": {
     "iopub.execute_input": "2024-02-16T00:33:28.786440Z",
     "iopub.status.busy": "2024-02-16T00:33:28.786095Z",
     "iopub.status.idle": "2024-02-16T00:47:35.927261Z",
     "shell.execute_reply": "2024-02-16T00:47:35.926253Z"
    }
   },
   "outputs": [],
   "source": [
    "readstats, aligned, filtered = targets.align_and_parse(\n",
    "        df=pacbio_runs,\n",
    "        mapper=mapper,\n",
    "        outdir=config['process_ccs_dir'],\n",
    "        name_col='run',\n",
    "        group_cols=['name', 'library'],\n",
    "        queryfile_col='fastq',\n",
    "        overwrite=True,\n",
    "        ncpus=config['max_cpus'],\n",
    "        )"
   ]
  },
  {
   "cell_type": "markdown",
   "metadata": {},
   "source": [
    "First, examine the read stats from the alignment / parsing, both extracting alignment target name and getting stats aggregated by target:"
   ]
  },
  {
   "cell_type": "code",
   "execution_count": 14,
   "metadata": {
    "execution": {
     "iopub.execute_input": "2024-02-16T00:47:35.931614Z",
     "iopub.status.busy": "2024-02-16T00:47:35.931199Z",
     "iopub.status.idle": "2024-02-16T00:47:35.940621Z",
     "shell.execute_reply": "2024-02-16T00:47:35.939859Z"
    }
   },
   "outputs": [],
   "source": [
    "readstats = (\n",
    "    readstats\n",
    "    .assign(category_all_targets=lambda x: x['category'].str.split().str[0],\n",
    "            target=lambda x: x['category'].str.split(None, 1).str[1],\n",
    "            valid=lambda x: x['category_all_targets'] == 'aligned')\n",
    "    )"
   ]
  },
  {
   "cell_type": "markdown",
   "metadata": {},
   "source": [
    "Now plot the read stats by run (combining all targets and libraries within a run):"
   ]
  },
  {
   "cell_type": "code",
   "execution_count": 15,
   "metadata": {
    "execution": {
     "iopub.execute_input": "2024-02-16T00:47:35.943870Z",
     "iopub.status.busy": "2024-02-16T00:47:35.943551Z",
     "iopub.status.idle": "2024-02-16T00:47:36.514378Z",
     "shell.execute_reply": "2024-02-16T00:47:36.513696Z"
    }
   },
   "outputs": [
    {
     "data": {
      "image/png": "[encoded data removed]",
      "text/plain": [
       "<Figure size 370x200 with 2 Axes>"
      ]
     },
     "metadata": {},
     "output_type": "display_data"
    }
   ],
   "source": [
    "ncol = 2\n",
    "p = (\n",
    "    ggplot(readstats\n",
    "           .groupby(['name', 'category_all_targets', 'valid'])\n",
    "           .aggregate({'count': 'sum'})\n",
    "           .reset_index(),\n",
    "           aes('category_all_targets', 'count', fill='valid')) +\n",
    "    geom_bar(stat='identity') +\n",
    "    facet_wrap('~ name', ncol=ncol) +\n",
    "    theme(axis_text_x=element_text(angle=90),\n",
    "          figure_size=(1.85 * min(ncol, len(pacbio_runs)),\n",
    "                       2 * math.ceil(len(pacbio_runs) / ncol)),\n",
    "          panel_grid_major_x=element_blank(),\n",
    "          legend_position='none',\n",
    "          ) +\n",
    "    scale_fill_manual(values=CBPALETTE)\n",
    "    )\n",
    "_ = p.draw()"
   ]
  },
  {
   "cell_type": "markdown",
   "metadata": {},
   "source": [
    "And the read stats by library (combining all targets and runs within a library):"
   ]
  },
  {
   "cell_type": "code",
   "execution_count": 16,
   "metadata": {
    "execution": {
     "iopub.execute_input": "2024-02-16T00:47:36.517755Z",
     "iopub.status.busy": "2024-02-16T00:47:36.517325Z",
     "iopub.status.idle": "2024-02-16T00:47:37.066383Z",
     "shell.execute_reply": "2024-02-16T00:47:37.065701Z"
    }
   },
   "outputs": [
    {
     "data": {
      "image/png": "[encoded data removed]",
      "text/plain": [
       "<Figure size 300x200 with 2 Axes>"
      ]
     },
     "metadata": {},
     "output_type": "display_data"
    }
   ],
   "source": [
    "p = (\n",
    "    ggplot(readstats\n",
    "           .groupby(['library', 'category_all_targets', 'valid'])\n",
    "           .aggregate({'count': 'sum'})\n",
    "           .reset_index(), \n",
    "           aes('category_all_targets', 'count', fill='valid')) +\n",
    "    geom_bar(stat='identity') +\n",
    "    facet_wrap('~ library', nrow=1) +\n",
    "    theme(axis_text_x=element_text(angle=90),\n",
    "          figure_size=(1.5 * pacbio_runs['library'].nunique(), 2),\n",
    "          panel_grid_major_x=element_blank(),\n",
    "          legend_position='none',\n",
    "          ) +\n",
    "    scale_fill_manual(values=CBPALETTE)\n",
    "    )\n",
    "_ = p.draw()"
   ]
  },
  {
   "cell_type": "markdown",
   "metadata": {},
   "source": [
    "And the number of reads by target (combining all libraries and runs for a target):"
   ]
  },
  {
   "cell_type": "code",
   "execution_count": 17,
   "metadata": {
    "execution": {
     "iopub.execute_input": "2024-02-16T00:47:37.069626Z",
     "iopub.status.busy": "2024-02-16T00:47:37.069299Z",
     "iopub.status.idle": "2024-02-16T00:47:37.366794Z",
     "shell.execute_reply": "2024-02-16T00:47:37.366057Z"
    }
   },
   "outputs": [
    {
     "data": {
      "image/png": "[encoded data removed]",
      "text/plain": [
       "<Figure size 30x200 with 1 Axes>"
      ]
     },
     "metadata": {},
     "output_type": "display_data"
    }
   ],
   "source": [
    "p = (\n",
    "    ggplot(readstats\n",
    "           .groupby(['target'])\n",
    "           .aggregate({'count': 'sum'})\n",
    "           .reset_index(), \n",
    "           aes('target', 'count')) +\n",
    "    geom_point(stat='identity', size=3) +\n",
    "    theme(axis_text_x=element_text(angle=90),\n",
    "          figure_size=(0.3 * readstats['target'].nunique(), 2),\n",
    "          panel_grid_major_x=element_blank(),\n",
    "          ) +\n",
    "    scale_y_log10(name='number of reads')\n",
    "    )\n",
    "_ = p.draw()"
   ]
  },
  {
   "cell_type": "markdown",
   "metadata": {},
   "source": [
    "And read stats by target (combining all libraries and runs for a target):"
   ]
  },
  {
   "cell_type": "code",
   "execution_count": 18,
   "metadata": {
    "execution": {
     "iopub.execute_input": "2024-02-16T00:47:37.370197Z",
     "iopub.status.busy": "2024-02-16T00:47:37.369674Z",
     "iopub.status.idle": "2024-02-16T00:47:37.697237Z",
     "shell.execute_reply": "2024-02-16T00:47:37.696559Z"
    }
   },
   "outputs": [
    {
     "data": {
      "image/png": "[encoded data removed]",
      "text/plain": [
       "<Figure size 50x200 with 1 Axes>"
      ]
     },
     "metadata": {},
     "output_type": "display_data"
    }
   ],
   "source": [
    "p = (\n",
    "    ggplot(readstats\n",
    "           .groupby(['target', 'valid'])\n",
    "           .aggregate({'count': 'sum'})\n",
    "           .reset_index()\n",
    "           .assign(total=lambda x: x.groupby('target')['count'].transform('sum'),\n",
    "                   frac=lambda x: x['count'] / x['total'],\n",
    "                   ), \n",
    "           aes('target', 'frac', fill='valid')) +\n",
    "    geom_bar(stat='identity') +\n",
    "    theme(axis_text_x=element_text(angle=90),\n",
    "          figure_size=(0.5 * readstats['target'].nunique(), 2),\n",
    "          panel_grid_major_x=element_blank(),\n",
    "          ) +\n",
    "    scale_fill_manual(values=CBPALETTE)\n",
    "    )\n",
    "_ = p.draw()"
   ]
  },
  {
   "cell_type": "markdown",
   "metadata": {},
   "source": [
    "Now let's see **why** we filtered the reads.\n",
    "First, we do some transformations on the `filtered` dict returned by `Targets.align_and_parse`.\n",
    "Then we count up the number of CCSs filtered for each reason, and group together \"unusual\" reasons that represent less than some fraction of all filtering.\n",
    "For now, we group together all targets to the stats represent all targets combined:"
   ]
  },
  {
   "cell_type": "code",
   "execution_count": 19,
   "metadata": {
    "execution": {
     "iopub.execute_input": "2024-02-16T00:47:37.700560Z",
     "iopub.status.busy": "2024-02-16T00:47:37.700130Z",
     "iopub.status.idle": "2024-02-16T00:47:37.858219Z",
     "shell.execute_reply": "2024-02-16T00:47:37.857377Z"
    }
   },
   "outputs": [],
   "source": [
    "other_cutoff = 0.02  # group as \"other\" reasons with <= this frac\n",
    "\n",
    "filtered_df = (\n",
    "    pd.concat(df.assign(target=target) for target, df in filtered.items())\n",
    "    .groupby(['library', 'name', 'run', 'filter_reason'])\n",
    "    .size()\n",
    "    .rename('count')\n",
    "    .reset_index()\n",
    "    .assign(tot_reason_frac=lambda x: (x.groupby('filter_reason')['count']\n",
    "                                       .transform('sum')) / x['count'].sum(),\n",
    "            filter_reason=lambda x: numpy.where(x['tot_reason_frac'] > other_cutoff,\n",
    "                                                x['filter_reason'],\n",
    "                                                'other')\n",
    "            )\n",
    "    )"
   ]
  },
  {
   "cell_type": "markdown",
   "metadata": {},
   "source": [
    "Now plot the filtering reason for all runs:"
   ]
  },
  {
   "cell_type": "code",
   "execution_count": 20,
   "metadata": {
    "execution": {
     "iopub.execute_input": "2024-02-16T00:47:37.861650Z",
     "iopub.status.busy": "2024-02-16T00:47:37.861282Z",
     "iopub.status.idle": "2024-02-16T00:47:38.565153Z",
     "shell.execute_reply": "2024-02-16T00:47:38.564465Z"
    }
   },
   "outputs": [
    {
     "data": {
      "image/png": "[encoded data removed]",
      "text/plain": [
       "<Figure size 350x200 with 2 Axes>"
      ]
     },
     "metadata": {},
     "output_type": "display_data"
    }
   ],
   "source": [
    "ncol = 7\n",
    "nreasons = filtered_df['filter_reason'].nunique()\n",
    "\n",
    "p = (\n",
    "    ggplot(filtered_df, aes('filter_reason', 'count')) +\n",
    "    geom_bar(stat='identity') +\n",
    "    facet_wrap('~ name', ncol=ncol) +\n",
    "    theme(axis_text_x=element_text(angle=90),\n",
    "          figure_size=(0.25 * nreasons * min(ncol, len(pacbio_runs)),\n",
    "                       2 * math.ceil(len(pacbio_runs) / ncol)),\n",
    "          panel_grid_major_x=element_blank(),\n",
    "          )\n",
    "    )\n",
    "_ = p.draw()"
   ]
  },
  {
   "cell_type": "markdown",
   "metadata": {},
   "source": [
    "Finally, we take the successfully parsed alignments and read them into a data frame, keeping track of the target that each CCS aligns to.\n",
    "We also drop the pieces of information we won't use going forward, and rename a few columns:"
   ]
  },
  {
   "cell_type": "code",
   "execution_count": 21,
   "metadata": {
    "execution": {
     "iopub.execute_input": "2024-02-16T00:47:38.568535Z",
     "iopub.status.busy": "2024-02-16T00:47:38.568098Z",
     "iopub.status.idle": "2024-02-16T00:47:39.195722Z",
     "shell.execute_reply": "2024-02-16T00:47:39.194939Z"
    }
   },
   "outputs": [
    {
     "name": "stdout",
     "output_type": "stream",
     "text": [
      "First few lines of information on the parsed alignments:\n"
     ]
    },
    {
     "data": {
      "text/html": [
       "<table border=\"1\" class=\"dataframe\">\n",
       "  <thead>\n",
       "    <tr style=\"text-align: right;\">\n",
       "      <th>library</th>\n",
       "      <th>query_name</th>\n",
       "      <th>gene_mutations</th>\n",
       "      <th>gene_accuracy</th>\n",
       "      <th>barcode</th>\n",
       "      <th>barcode_accuracy</th>\n",
       "      <th>target</th>\n",
       "    </tr>\n",
       "  </thead>\n",
       "  <tbody>\n",
       "    <tr>\n",
       "      <td>pool1</td>\n",
       "      <td>m64296e_240202_130733/12/ccs</td>\n",
       "      <td>T205G C206A C207T ins299C C375G</td>\n",
       "      <td>0.999730</td>\n",
       "      <td>CTTGCGGTAAATGAGG</td>\n",
       "      <td>0.999988</td>\n",
       "      <td>FLip</td>\n",
       "    </tr>\n",
       "    <tr>\n",
       "      <td>pool1</td>\n",
       "      <td>m64296e_240202_130733/59/ccs</td>\n",
       "      <td>C375G</td>\n",
       "      <td>1.000000</td>\n",
       "      <td>TCGATAACACGGTTAC</td>\n",
       "      <td>1.000000</td>\n",
       "      <td>FLip</td>\n",
       "    </tr>\n",
       "    <tr>\n",
       "      <td>pool1</td>\n",
       "      <td>m64296e_240202_130733/133/ccs</td>\n",
       "      <td>C375G del510to510 del565to567</td>\n",
       "      <td>0.999334</td>\n",
       "      <td>TGAACCTTACATCACC</td>\n",
       "      <td>1.000000</td>\n",
       "      <td>FLip</td>\n",
       "    </tr>\n",
       "    <tr>\n",
       "      <td>pool1</td>\n",
       "      <td>m64296e_240202_130733/182/ccs</td>\n",
       "      <td>C375G</td>\n",
       "      <td>1.000000</td>\n",
       "      <td>ACACAATAAAACCTCA</td>\n",
       "      <td>1.000000</td>\n",
       "      <td>FLip</td>\n",
       "    </tr>\n",
       "    <tr>\n",
       "      <td>pool1</td>\n",
       "      <td>m64296e_240202_130733/204/ccs</td>\n",
       "      <td>C375G G409A A410T T411G</td>\n",
       "      <td>1.000000</td>\n",
       "      <td>TAGCAACCGATTGAGC</td>\n",
       "      <td>1.000000</td>\n",
       "      <td>FLip</td>\n",
       "    </tr>\n",
       "  </tbody>\n",
       "</table>"
      ],
      "text/plain": [
       "<IPython.core.display.HTML object>"
      ]
     },
     "metadata": {},
     "output_type": "display_data"
    }
   ],
   "source": [
    "aligned_df = (\n",
    "    pd.concat(df.assign(target=target) for target, df in aligned.items())\n",
    "    .drop(columns=['query_clip5', 'query_clip3', 'run','name'])\n",
    "    .rename(columns={'barcode_sequence': 'barcode'})\n",
    "    )\n",
    "\n",
    "print(f\"First few lines of information on the parsed alignments:\")\n",
    "display(HTML(aligned_df.head().to_html(index=False)))"
   ]
  },
  {
   "cell_type": "markdown",
   "metadata": {},
   "source": [
    "## Write valid CCSs"
   ]
  },
  {
   "cell_type": "markdown",
   "metadata": {},
   "source": [
    "Write the processed CCSs to a file:"
   ]
  },
  {
   "cell_type": "code",
   "execution_count": 22,
   "metadata": {
    "execution": {
     "iopub.execute_input": "2024-02-16T00:47:39.199118Z",
     "iopub.status.busy": "2024-02-16T00:47:39.198767Z",
     "iopub.status.idle": "2024-02-16T00:47:49.771239Z",
     "shell.execute_reply": "2024-02-16T00:47:49.770470Z"
    }
   },
   "outputs": [
    {
     "name": "stdout",
     "output_type": "stream",
     "text": [
      "Barcodes and mutations for valid processed CCSs have been written to results/process_ccs/processed_ccs_FLip.csv.\n"
     ]
    }
   ],
   "source": [
    "aligned_df.to_csv(config['processed_ccs_file' + '_' + background], index=False)\n",
    "\n",
    "print(\"Barcodes and mutations for valid processed CCSs \"\n",
    "      f\"have been written to {config['processed_ccs_file' + '_' + background]}.\")"
   ]
  },
  {
   "cell_type": "markdown",
   "metadata": {},
   "source": [
    "Next, we analyze these processed CCSs to build the variants."
   ]
  },
  {
   "cell_type": "markdown",
   "metadata": {},
   "source": [
    "# Build barcode variant table\n",
    "Builds consensus sequences for barcoded variants from the mutations called in the processed PacBio CCSs.\n",
    "Uses these consensus sequences to build a codon variant table."
   ]
  },
  {
   "cell_type": "markdown",
   "metadata": {},
   "source": [
    "Make output directories if needed:"
   ]
  },
  {
   "cell_type": "code",
   "execution_count": 23,
   "metadata": {
    "execution": {
     "iopub.execute_input": "2024-02-16T00:47:49.774704Z",
     "iopub.status.busy": "2024-02-16T00:47:49.774340Z",
     "iopub.status.idle": "2024-02-16T00:47:49.778890Z",
     "shell.execute_reply": "2024-02-16T00:47:49.778168Z"
    }
   },
   "outputs": [],
   "source": [
    "os.makedirs(config['variants_dir'], exist_ok=True)\n",
    "os.makedirs(config['figs_dir'], exist_ok=True)"
   ]
  },
  {
   "cell_type": "markdown",
   "metadata": {},
   "source": [
    "Read the CSV file with the processed CCSs into a data frame, display first few lines:"
   ]
  },
  {
   "cell_type": "code",
   "execution_count": 24,
   "metadata": {
    "execution": {
     "iopub.execute_input": "2024-02-16T00:47:49.782144Z",
     "iopub.status.busy": "2024-02-16T00:47:49.781741Z",
     "iopub.status.idle": "2024-02-16T00:47:52.821553Z",
     "shell.execute_reply": "2024-02-16T00:47:52.820761Z"
    }
   },
   "outputs": [
    {
     "name": "stdout",
     "output_type": "stream",
     "text": [
      "Read 792142 CCSs from 2 libraries and 1 targets.\n"
     ]
    },
    {
     "data": {
      "text/html": [
       "<table border=\"1\" class=\"dataframe\">\n",
       "  <thead>\n",
       "    <tr style=\"text-align: right;\">\n",
       "      <th>library</th>\n",
       "      <th>query_name</th>\n",
       "      <th>gene_mutations</th>\n",
       "      <th>gene_accuracy</th>\n",
       "      <th>barcode</th>\n",
       "      <th>barcode_accuracy</th>\n",
       "      <th>target</th>\n",
       "    </tr>\n",
       "  </thead>\n",
       "  <tbody>\n",
       "    <tr>\n",
       "      <td>pool1</td>\n",
       "      <td>m64296e_240202_130733/12/ccs</td>\n",
       "      <td>T205G C206A C207T ins299C C375G</td>\n",
       "      <td>0.999730</td>\n",
       "      <td>CTTGCGGTAAATGAGG</td>\n",
       "      <td>0.999988</td>\n",
       "      <td>FLip</td>\n",
       "    </tr>\n",
       "    <tr>\n",
       "      <td>pool1</td>\n",
       "      <td>m64296e_240202_130733/59/ccs</td>\n",
       "      <td>C375G</td>\n",
       "      <td>1.000000</td>\n",
       "      <td>TCGATAACACGGTTAC</td>\n",
       "      <td>1.000000</td>\n",
       "      <td>FLip</td>\n",
       "    </tr>\n",
       "    <tr>\n",
       "      <td>pool1</td>\n",
       "      <td>m64296e_240202_130733/133/ccs</td>\n",
       "      <td>C375G del510to510 del565to567</td>\n",
       "      <td>0.999334</td>\n",
       "      <td>TGAACCTTACATCACC</td>\n",
       "      <td>1.000000</td>\n",
       "      <td>FLip</td>\n",
       "    </tr>\n",
       "    <tr>\n",
       "      <td>pool1</td>\n",
       "      <td>m64296e_240202_130733/182/ccs</td>\n",
       "      <td>C375G</td>\n",
       "      <td>1.000000</td>\n",
       "      <td>ACACAATAAAACCTCA</td>\n",
       "      <td>1.000000</td>\n",
       "      <td>FLip</td>\n",
       "    </tr>\n",
       "    <tr>\n",
       "      <td>pool1</td>\n",
       "      <td>m64296e_240202_130733/204/ccs</td>\n",
       "      <td>C375G G409A A410T T411G</td>\n",
       "      <td>1.000000</td>\n",
       "      <td>TAGCAACCGATTGAGC</td>\n",
       "      <td>1.000000</td>\n",
       "      <td>FLip</td>\n",
       "    </tr>\n",
       "  </tbody>\n",
       "</table>"
      ],
      "text/plain": [
       "<IPython.core.display.HTML object>"
      ]
     },
     "metadata": {},
     "output_type": "display_data"
    }
   ],
   "source": [
    "processed_ccs = pd.read_csv(config['processed_ccs_file' + '_' + background], na_filter=None)\n",
    "\n",
    "nlibs = processed_ccs['library'].nunique()  # number of unique libraries\n",
    "\n",
    "ntargets = processed_ccs['target'].nunique()  # number of unique targets\n",
    "\n",
    "print(f\"Read {len(processed_ccs)} CCSs from {nlibs} libraries and {ntargets} targets.\")\n",
    "\n",
    "display(HTML(processed_ccs.head().to_html(index=False)))"
   ]
  },
  {
   "cell_type": "markdown",
   "metadata": {},
   "source": [
    "Optional: discard reads that have a `fwd` or `rev` indicator suggestive of heteroduplexes (or we suspect in these runs, some form of pseudo-duplex)."
   ]
  },
  {
   "cell_type": "code",
   "execution_count": 25,
   "metadata": {
    "execution": {
     "iopub.execute_input": "2024-02-16T00:47:52.824891Z",
     "iopub.status.busy": "2024-02-16T00:47:52.824534Z",
     "iopub.status.idle": "2024-02-16T00:47:52.828291Z",
     "shell.execute_reply": "2024-02-16T00:47:52.827594Z"
    }
   },
   "outputs": [],
   "source": [
    "#start = len(processed_ccs)\n",
    "#processed_ccs = processed_ccs.loc[~processed_ccs['query_name'].str.contains('fwd')]\n",
    "#processed_ccs = processed_ccs.loc[~processed_ccs['query_name'].str.contains('rev')]\n",
    "#end = len(processed_ccs)\n",
    "\n",
    "#print(f\"Went from {start} CCSs to {end} after discarded split/duplexed fwd and rev reads.\")\n",
    "\n",
    "#display(HTML(processed_ccs.head().to_html(index=False)))"
   ]
  },
  {
   "cell_type": "markdown",
   "metadata": {},
   "source": [
    "Overall statistics on number of total CCSs and number of unique barcodes:"
   ]
  },
  {
   "cell_type": "code",
   "execution_count": 26,
   "metadata": {
    "execution": {
     "iopub.execute_input": "2024-02-16T00:47:52.831720Z",
     "iopub.status.busy": "2024-02-16T00:47:52.831135Z",
     "iopub.status.idle": "2024-02-16T00:47:53.382488Z",
     "shell.execute_reply": "2024-02-16T00:47:53.381699Z"
    }
   },
   "outputs": [
    {
     "data": {
      "text/html": [
       "<table border=\"1\" class=\"dataframe\">\n",
       "  <thead>\n",
       "    <tr style=\"text-align: right;\">\n",
       "      <th></th>\n",
       "      <th></th>\n",
       "      <th>total_CCSs</th>\n",
       "      <th>unique_barcodes</th>\n",
       "      <th>avg_CCSs_per_barcode</th>\n",
       "    </tr>\n",
       "    <tr>\n",
       "      <th>target</th>\n",
       "      <th>library</th>\n",
       "      <th></th>\n",
       "      <th></th>\n",
       "      <th></th>\n",
       "    </tr>\n",
       "  </thead>\n",
       "  <tbody>\n",
       "    <tr>\n",
       "      <th rowspan=\"2\" valign=\"top\">FLip</th>\n",
       "      <th>pool1</th>\n",
       "      <td>362335</td>\n",
       "      <td>123883</td>\n",
       "      <td>2.92</td>\n",
       "    </tr>\n",
       "    <tr>\n",
       "      <th>pool2</th>\n",
       "      <td>429807</td>\n",
       "      <td>117919</td>\n",
       "      <td>3.64</td>\n",
       "    </tr>\n",
       "  </tbody>\n",
       "</table>"
      ],
      "text/plain": [
       "<IPython.core.display.HTML object>"
      ]
     },
     "metadata": {},
     "output_type": "display_data"
    }
   ],
   "source": [
    "display(HTML(\n",
    "    processed_ccs\n",
    "    .groupby(['target', 'library'])\n",
    "    .aggregate(total_CCSs=('barcode', 'size'),\n",
    "               unique_barcodes=('barcode', 'nunique'))\n",
    "    .assign(avg_CCSs_per_barcode=lambda x: x['total_CCSs'] / x['unique_barcodes'])\n",
    "    .round(2)\n",
    "    .to_html()\n",
    "    ))"
   ]
  },
  {
   "cell_type": "markdown",
   "metadata": {},
   "source": [
    "### Filter processed CCSs\n",
    "We have the PacBio `ccs` program's estimated \"accuracy\" for both the barcode and the gene sequence for each processed CCS.\n",
    "We will filter the CCSs to only keep ones of sufficiently high accuracy.\n",
    "\n",
    "First, we want to plot the accuracies.\n",
    "It is actually visually easier to look at the error rate, which is one minus the accuracy.\n",
    "Because we want to plot on a log scale (which can't show error rates of zero), we define a *error_rate_floor*, and set all error rates less than this to that value:"
   ]
  },
  {
   "cell_type": "code",
   "execution_count": 27,
   "metadata": {
    "execution": {
     "iopub.execute_input": "2024-02-16T00:47:53.385880Z",
     "iopub.status.busy": "2024-02-16T00:47:53.385524Z",
     "iopub.status.idle": "2024-02-16T00:47:53.466220Z",
     "shell.execute_reply": "2024-02-16T00:47:53.465415Z"
    }
   },
   "outputs": [],
   "source": [
    "error_rate_floor = 1e-7  # error rates < this set to this\n",
    "if error_rate_floor >= config['max_error_rate']:\n",
    "    raise ValueError('error_rate_floor must be < max_error_rate')\n",
    "\n",
    "processed_ccs = (\n",
    "    processed_ccs\n",
    "    .assign(barcode_error=lambda x: numpy.clip(1 - x['barcode_accuracy'],\n",
    "                                               error_rate_floor, None),\n",
    "            gene_error=lambda x: numpy.clip(1 - x['gene_accuracy'],\n",
    "                                            error_rate_floor, None)\n",
    "            )\n",
    "    )"
   ]
  },
  {
   "cell_type": "markdown",
   "metadata": {},
   "source": [
    "Now plot the error rates, drawing a dashed vertical line at the threshold separating the CCSs we retain for consensus building versus those that we discard:"
   ]
  },
  {
   "cell_type": "code",
   "execution_count": 28,
   "metadata": {
    "execution": {
     "iopub.execute_input": "2024-02-16T00:47:53.469614Z",
     "iopub.status.busy": "2024-02-16T00:47:53.469249Z",
     "iopub.status.idle": "2024-02-16T00:48:06.916691Z",
     "shell.execute_reply": "2024-02-16T00:48:06.915966Z"
    }
   },
   "outputs": [
    {
     "data": {
      "image/png": "[encoded data removed]",
      "text/plain": [
       "<Figure size 450x200 with 2 Axes>"
      ]
     },
     "metadata": {},
     "output_type": "display_data"
    }
   ],
   "source": [
    "_ = (\n",
    " ggplot(processed_ccs\n",
    "        .melt(value_vars=['barcode_error', 'gene_error'],\n",
    "              var_name='feature_type', value_name='error rate'),\n",
    "        aes('error rate')) +\n",
    " geom_histogram(bins=25) +\n",
    " geom_vline(xintercept=config['max_error_rate'],\n",
    "            linetype='dashed',\n",
    "            color=CBPALETTE[1]) +\n",
    " facet_wrap('~ feature_type') +\n",
    " theme(figure_size=(4.5, 2)) +\n",
    " ylab('number of CCSs') +\n",
    " scale_x_log10()\n",
    " ).draw()"
   ]
  },
  {
   "cell_type": "markdown",
   "metadata": {},
   "source": [
    "Flag the CCSs to retain, and indicate how many we are retaining and purging due to the accuracy filter:"
   ]
  },
  {
   "cell_type": "code",
   "execution_count": 29,
   "metadata": {
    "execution": {
     "iopub.execute_input": "2024-02-16T00:48:06.920023Z",
     "iopub.status.busy": "2024-02-16T00:48:06.919667Z",
     "iopub.status.idle": "2024-02-16T00:48:06.981401Z",
     "shell.execute_reply": "2024-02-16T00:48:06.980604Z"
    }
   },
   "outputs": [],
   "source": [
    "processed_ccs = (\n",
    "    processed_ccs\n",
    "    .assign(retained=lambda x: ((x['gene_error'] < config['max_error_rate']) &\n",
    "                                (x['barcode_error'] < config['max_error_rate'])))\n",
    "    )"
   ]
  },
  {
   "cell_type": "markdown",
   "metadata": {},
   "source": [
    "Here are number of retained CCSs:"
   ]
  },
  {
   "cell_type": "code",
   "execution_count": 30,
   "metadata": {
    "execution": {
     "iopub.execute_input": "2024-02-16T00:48:06.984760Z",
     "iopub.status.busy": "2024-02-16T00:48:06.984402Z",
     "iopub.status.idle": "2024-02-16T00:48:08.001053Z",
     "shell.execute_reply": "2024-02-16T00:48:08.000334Z"
    }
   },
   "outputs": [
    {
     "data": {
      "image/png": "[encoded data removed]",
      "text/plain": [
       "<Figure size 100x300 with 1 Axes>"
      ]
     },
     "metadata": {},
     "output_type": "display_data"
    }
   ],
   "source": [
    "_ = (\n",
    " ggplot(processed_ccs.assign(xlabel=lambda x: x['target'] + ', ' + x['library'])\n",
    "                     .groupby(['xlabel', 'retained'])\n",
    "                     .size()\n",
    "                     .rename('count')\n",
    "                     .reset_index(),\n",
    "        aes('xlabel', 'count', color='retained', label='count')) +\n",
    " geom_point(size=3) +\n",
    " geom_text(va='bottom', size=7, ha='center',format_string='{:.3g}', nudge_y=0.2) +\n",
    " theme(figure_size=(0.5 * nlibs * ntargets, 3),\n",
    "       panel_grid_major_x=element_blank(),\n",
    "       axis_text_x=element_text(angle=90),\n",
    "       ) +\n",
    " scale_y_log10(name='number of CCSs') +\n",
    " xlab('') +\n",
    " scale_color_manual(values=CBPALETTE[1:])\n",
    " ).draw()"
   ]
  },
  {
   "cell_type": "markdown",
   "metadata": {},
   "source": [
    "### Sequences per barcode\n",
    "How many times is each barcode sequenced?\n",
    "This is useful to know for thinking about building the barcode consensus.\n",
    "\n",
    "Plot the distribution of the number of times each **barcode** is observed among the retained CCSs:"
   ]
  },
  {
   "cell_type": "code",
   "execution_count": 31,
   "metadata": {
    "execution": {
     "iopub.execute_input": "2024-02-16T00:48:08.004386Z",
     "iopub.status.busy": "2024-02-16T00:48:08.004035Z",
     "iopub.status.idle": "2024-02-16T00:48:11.212437Z",
     "shell.execute_reply": "2024-02-16T00:48:11.211719Z"
    }
   },
   "outputs": [
    {
     "data": {
      "image/png": "[encoded data removed]",
      "text/plain": [
       "<Figure size 350x200 with 2 Axes>"
      ]
     },
     "metadata": {},
     "output_type": "display_data"
    }
   ],
   "source": [
    "max_count = 8 # in plot, group all barcodes with >= this many counts\n",
    "\n",
    "p = (\n",
    " ggplot(\n",
    "    processed_ccs\n",
    "     .query('retained')\n",
    "     .groupby(['library', 'barcode'])\n",
    "     .size()\n",
    "     .rename('nseqs')\n",
    "     .reset_index()\n",
    "     .assign(nseqs=lambda x: numpy.clip(x['nseqs'], None, max_count)),\n",
    "    aes('nseqs')) +\n",
    " geom_bar() +\n",
    " facet_wrap('~ library', nrow=1) +\n",
    " theme(figure_size=(1.75 * nlibs, 2),\n",
    "       panel_grid_major_x=element_blank(),\n",
    "       ) +\n",
    " ylab('number of barcodes') +\n",
    " xlab('CCSs for barcode')\n",
    " )\n",
    "\n",
    "_ = p.draw()"
   ]
  },
  {
   "cell_type": "markdown",
   "metadata": {},
   "source": [
    "### Empirical accuracy of CCSs\n",
    "We want to directly estimate the accuracy of the gene-barcode link rather than relying on the PacBio `ccs` accuracy, which doesn't include inaccuracies due to things like strand exchange or the same barcode on different sequences.\n",
    "\n",
    "One way to do this is to examine instances when we have multiple sequences for the same barcode. \n",
    "We can calculate the empirical accuracy of the sequences by looking at all instances of multiple sequences of the same barcode and determining how often they are identical.\n",
    "This calculation is performed by `alignparse.consensus.empirical_accuracy` using the equations described in the docs for that function.\n",
    "\n",
    "We will do this four for sets of sequences:\n",
    "\n",
    " 1. All of the CCSs retained above.\n",
    " 2. CCSs retained by applying a PacBio `ccs` accuracy filter 10-fold more stringent than the one above.\n",
    "    The rationale is that if this improves the concordance (real accuracy) of the CCSs substantially then maybe we should make the accuracy filter more stringent.\n",
    " 3. Like (1) but excluding all CCSs with indels.\n",
    "    the rationale is that we only really care about substitutions, and will exclude sequences with indels anyway.\n",
    " 4. Like (2) but excluding all CCSs with indels.\n",
    " \n",
    "First, we annotate the sequences with the number of indels and whether they have an indel to enable categorization into the aforementioned sets. We want to convert the way we call *only* in-frame deletions to be substitution style (that is, `del511to513` becomes `C511- C512- G513-`), if the deletion is a single-codon in-frame deletion. We do this using alignparse util InFrameDeletionsToSubs. Below, when we parse indels, these in-frame deletions will be treated as \"substitutions\" and not add to indel counts, so we can then parse on indel count which will be count of out-of-frame indels.:"
   ]
  },
  {
   "cell_type": "code",
   "execution_count": 32,
   "metadata": {
    "execution": {
     "iopub.execute_input": "2024-02-16T00:48:11.215780Z",
     "iopub.status.busy": "2024-02-16T00:48:11.215414Z",
     "iopub.status.idle": "2024-02-16T00:48:11.228594Z",
     "shell.execute_reply": "2024-02-16T00:48:11.227869Z"
    }
   },
   "outputs": [
    {
     "name": "stdout",
     "output_type": "stream",
     "text": [
      "Read gene of 603 nts for FLip from data/PacBio_amplicon_FLip.gb\n"
     ]
    }
   ],
   "source": [
    "targets = alignparse.targets.Targets(seqsfile=config['amplicons_' + background],\n",
    "                                     feature_parse_specs=config['feature_parse_specs_' + background])\n",
    "geneseq = targets.get_target(background).get_feature('gene').seq\n",
    "\n",
    "print(f\"Read gene of {len(geneseq)} nts for {background} from {config['amplicons_' + background]}\")"
   ]
  },
  {
   "cell_type": "code",
   "execution_count": 33,
   "metadata": {
    "execution": {
     "iopub.execute_input": "2024-02-16T00:48:11.231828Z",
     "iopub.status.busy": "2024-02-16T00:48:11.231406Z",
     "iopub.status.idle": "2024-02-16T00:48:55.404474Z",
     "shell.execute_reply": "2024-02-16T00:48:55.403684Z"
    }
   },
   "outputs": [
    {
     "data": {
      "text/html": [
       "<div>\n",
       "<style scoped>\n",
       "    .dataframe tbody tr th:only-of-type {\n",
       "        vertical-align: middle;\n",
       "    }\n",
       "\n",
       "    .dataframe tbody tr th {\n",
       "        vertical-align: top;\n",
       "    }\n",
       "\n",
       "    .dataframe thead th {\n",
       "        text-align: right;\n",
       "    }\n",
       "</style>\n",
       "<table border=\"1\" class=\"dataframe\">\n",
       "  <thead>\n",
       "    <tr style=\"text-align: right;\">\n",
       "      <th></th>\n",
       "      <th>library</th>\n",
       "      <th>query_name</th>\n",
       "      <th>gene_mutations</th>\n",
       "      <th>gene_accuracy</th>\n",
       "      <th>barcode</th>\n",
       "      <th>barcode_accuracy</th>\n",
       "      <th>target</th>\n",
       "      <th>barcode_error</th>\n",
       "      <th>gene_error</th>\n",
       "      <th>retained</th>\n",
       "      <th>gene_mutations_with_del</th>\n",
       "      <th>n_indels</th>\n",
       "      <th>has_indel</th>\n",
       "    </tr>\n",
       "  </thead>\n",
       "  <tbody>\n",
       "    <tr>\n",
       "      <th>0</th>\n",
       "      <td>pool1</td>\n",
       "      <td>m64296e_240202_130733/12/ccs</td>\n",
       "      <td>T205G C206A C207T ins299C C375G</td>\n",
       "      <td>0.999730</td>\n",
       "      <td>CTTGCGGTAAATGAGG</td>\n",
       "      <td>0.999988</td>\n",
       "      <td>FLip</td>\n",
       "      <td>1.247089e-05</td>\n",
       "      <td>2.698891e-04</td>\n",
       "      <td>False</td>\n",
       "      <td>T205G C206A C207T ins299C C375G</td>\n",
       "      <td>1</td>\n",
       "      <td>True</td>\n",
       "    </tr>\n",
       "    <tr>\n",
       "      <th>1</th>\n",
       "      <td>pool1</td>\n",
       "      <td>m64296e_240202_130733/59/ccs</td>\n",
       "      <td>C375G</td>\n",
       "      <td>1.000000</td>\n",
       "      <td>TCGATAACACGGTTAC</td>\n",
       "      <td>1.000000</td>\n",
       "      <td>FLip</td>\n",
       "      <td>1.000000e-07</td>\n",
       "      <td>1.000000e-07</td>\n",
       "      <td>True</td>\n",
       "      <td>C375G</td>\n",
       "      <td>0</td>\n",
       "      <td>False</td>\n",
       "    </tr>\n",
       "    <tr>\n",
       "      <th>2</th>\n",
       "      <td>pool1</td>\n",
       "      <td>m64296e_240202_130733/133/ccs</td>\n",
       "      <td>C375G del510to510 del565to567</td>\n",
       "      <td>0.999334</td>\n",
       "      <td>TGAACCTTACATCACC</td>\n",
       "      <td>1.000000</td>\n",
       "      <td>FLip</td>\n",
       "      <td>1.000000e-07</td>\n",
       "      <td>6.663423e-04</td>\n",
       "      <td>False</td>\n",
       "      <td>C375G del510to510 C565- A566- T567-</td>\n",
       "      <td>1</td>\n",
       "      <td>True</td>\n",
       "    </tr>\n",
       "    <tr>\n",
       "      <th>3</th>\n",
       "      <td>pool1</td>\n",
       "      <td>m64296e_240202_130733/182/ccs</td>\n",
       "      <td>C375G</td>\n",
       "      <td>1.000000</td>\n",
       "      <td>ACACAATAAAACCTCA</td>\n",
       "      <td>1.000000</td>\n",
       "      <td>FLip</td>\n",
       "      <td>1.000000e-07</td>\n",
       "      <td>1.000000e-07</td>\n",
       "      <td>True</td>\n",
       "      <td>C375G</td>\n",
       "      <td>0</td>\n",
       "      <td>False</td>\n",
       "    </tr>\n",
       "    <tr>\n",
       "      <th>4</th>\n",
       "      <td>pool1</td>\n",
       "      <td>m64296e_240202_130733/204/ccs</td>\n",
       "      <td>C375G G409A A410T T411G</td>\n",
       "      <td>1.000000</td>\n",
       "      <td>TAGCAACCGATTGAGC</td>\n",
       "      <td>1.000000</td>\n",
       "      <td>FLip</td>\n",
       "      <td>1.000000e-07</td>\n",
       "      <td>1.000000e-07</td>\n",
       "      <td>True</td>\n",
       "      <td>C375G G409A A410T T411G</td>\n",
       "      <td>0</td>\n",
       "      <td>False</td>\n",
       "    </tr>\n",
       "    <tr>\n",
       "      <th>5</th>\n",
       "      <td>pool1</td>\n",
       "      <td>m64296e_240202_130733/267/ccs</td>\n",
       "      <td>ins45T C375G C426G</td>\n",
       "      <td>0.999153</td>\n",
       "      <td>CATACAACAAAAAACC</td>\n",
       "      <td>0.999991</td>\n",
       "      <td>FLip</td>\n",
       "      <td>8.748765e-06</td>\n",
       "      <td>8.466443e-04</td>\n",
       "      <td>False</td>\n",
       "      <td>ins45T C375G C426G</td>\n",
       "      <td>1</td>\n",
       "      <td>True</td>\n",
       "    </tr>\n",
       "    <tr>\n",
       "      <th>6</th>\n",
       "      <td>pool1</td>\n",
       "      <td>m64296e_240202_130733/297/ccs</td>\n",
       "      <td>C375G A388G A390T</td>\n",
       "      <td>1.000000</td>\n",
       "      <td>AAAAACCTTCCCACAT</td>\n",
       "      <td>0.999975</td>\n",
       "      <td>FLip</td>\n",
       "      <td>2.488217e-05</td>\n",
       "      <td>1.000000e-07</td>\n",
       "      <td>False</td>\n",
       "      <td>C375G A388G A390T</td>\n",
       "      <td>0</td>\n",
       "      <td>False</td>\n",
       "    </tr>\n",
       "    <tr>\n",
       "      <th>7</th>\n",
       "      <td>pool1</td>\n",
       "      <td>m64296e_240202_130733/304/ccs</td>\n",
       "      <td>T373A T374A C375T</td>\n",
       "      <td>1.000000</td>\n",
       "      <td>CCCACACGAATATCAA</td>\n",
       "      <td>1.000000</td>\n",
       "      <td>FLip</td>\n",
       "      <td>1.000000e-07</td>\n",
       "      <td>1.000000e-07</td>\n",
       "      <td>True</td>\n",
       "      <td>T373A T374A C375T</td>\n",
       "      <td>0</td>\n",
       "      <td>False</td>\n",
       "    </tr>\n",
       "    <tr>\n",
       "      <th>8</th>\n",
       "      <td>pool1</td>\n",
       "      <td>m64296e_240202_130733/326/ccs</td>\n",
       "      <td>G289A A290G T291A C375G</td>\n",
       "      <td>1.000000</td>\n",
       "      <td>CACATGACGACGACAA</td>\n",
       "      <td>1.000000</td>\n",
       "      <td>FLip</td>\n",
       "      <td>1.000000e-07</td>\n",
       "      <td>1.000000e-07</td>\n",
       "      <td>True</td>\n",
       "      <td>G289A A290G T291A C375G</td>\n",
       "      <td>0</td>\n",
       "      <td>False</td>\n",
       "    </tr>\n",
       "    <tr>\n",
       "      <th>9</th>\n",
       "      <td>pool1</td>\n",
       "      <td>m64296e_240202_130733/411/ccs</td>\n",
       "      <td>T337G C375G</td>\n",
       "      <td>0.999970</td>\n",
       "      <td>AAAGGGCAAATGTTTA</td>\n",
       "      <td>0.997512</td>\n",
       "      <td>FLip</td>\n",
       "      <td>2.488171e-03</td>\n",
       "      <td>3.044539e-05</td>\n",
       "      <td>False</td>\n",
       "      <td>T337G C375G</td>\n",
       "      <td>0</td>\n",
       "      <td>False</td>\n",
       "    </tr>\n",
       "    <tr>\n",
       "      <th>10</th>\n",
       "      <td>pool1</td>\n",
       "      <td>m64296e_240202_130733/457/ccs</td>\n",
       "      <td>T61A C63T C375G</td>\n",
       "      <td>1.000000</td>\n",
       "      <td>TAAAAGTAAATAGAGT</td>\n",
       "      <td>1.000000</td>\n",
       "      <td>FLip</td>\n",
       "      <td>1.000000e-07</td>\n",
       "      <td>1.000000e-07</td>\n",
       "      <td>True</td>\n",
       "      <td>T61A C63T C375G</td>\n",
       "      <td>0</td>\n",
       "      <td>False</td>\n",
       "    </tr>\n",
       "    <tr>\n",
       "      <th>11</th>\n",
       "      <td>pool1</td>\n",
       "      <td>m64296e_240202_130733/470/ccs</td>\n",
       "      <td>ins294T C375G ins545T</td>\n",
       "      <td>0.998408</td>\n",
       "      <td>CCCTTAACAAAGGGTT</td>\n",
       "      <td>0.999999</td>\n",
       "      <td>FLip</td>\n",
       "      <td>5.828084e-07</td>\n",
       "      <td>1.592205e-03</td>\n",
       "      <td>False</td>\n",
       "      <td>ins294T C375G ins545T</td>\n",
       "      <td>2</td>\n",
       "      <td>True</td>\n",
       "    </tr>\n",
       "  </tbody>\n",
       "</table>\n",
       "</div>"
      ],
      "text/plain": [
       "   library                     query_name                   gene_mutations  \\\n",
       "0    pool1   m64296e_240202_130733/12/ccs  T205G C206A C207T ins299C C375G   \n",
       "1    pool1   m64296e_240202_130733/59/ccs                            C375G   \n",
       "2    pool1  m64296e_240202_130733/133/ccs    C375G del510to510 del565to567   \n",
       "3    pool1  m64296e_240202_130733/182/ccs                            C375G   \n",
       "4    pool1  m64296e_240202_130733/204/ccs          C375G G409A A410T T411G   \n",
       "5    pool1  m64296e_240202_130733/267/ccs               ins45T C375G C426G   \n",
       "6    pool1  m64296e_240202_130733/297/ccs                C375G A388G A390T   \n",
       "7    pool1  m64296e_240202_130733/304/ccs                T373A T374A C375T   \n",
       "8    pool1  m64296e_240202_130733/326/ccs          G289A A290G T291A C375G   \n",
       "9    pool1  m64296e_240202_130733/411/ccs                      T337G C375G   \n",
       "10   pool1  m64296e_240202_130733/457/ccs                  T61A C63T C375G   \n",
       "11   pool1  m64296e_240202_130733/470/ccs            ins294T C375G ins545T   \n",
       "\n",
       "    gene_accuracy           barcode  barcode_accuracy target  barcode_error  \\\n",
       "0        0.999730  CTTGCGGTAAATGAGG          0.999988   FLip   1.247089e-05   \n",
       "1        1.000000  TCGATAACACGGTTAC          1.000000   FLip   1.000000e-07   \n",
       "2        0.999334  TGAACCTTACATCACC          1.000000   FLip   1.000000e-07   \n",
       "3        1.000000  ACACAATAAAACCTCA          1.000000   FLip   1.000000e-07   \n",
       "4        1.000000  TAGCAACCGATTGAGC          1.000000   FLip   1.000000e-07   \n",
       "5        0.999153  CATACAACAAAAAACC          0.999991   FLip   8.748765e-06   \n",
       "6        1.000000  AAAAACCTTCCCACAT          0.999975   FLip   2.488217e-05   \n",
       "7        1.000000  CCCACACGAATATCAA          1.000000   FLip   1.000000e-07   \n",
       "8        1.000000  CACATGACGACGACAA          1.000000   FLip   1.000000e-07   \n",
       "9        0.999970  AAAGGGCAAATGTTTA          0.997512   FLip   2.488171e-03   \n",
       "10       1.000000  TAAAAGTAAATAGAGT          1.000000   FLip   1.000000e-07   \n",
       "11       0.998408  CCCTTAACAAAGGGTT          0.999999   FLip   5.828084e-07   \n",
       "\n",
       "      gene_error  retained              gene_mutations_with_del  n_indels  \\\n",
       "0   2.698891e-04     False      T205G C206A C207T ins299C C375G         1   \n",
       "1   1.000000e-07      True                                C375G         0   \n",
       "2   6.663423e-04     False  C375G del510to510 C565- A566- T567-         1   \n",
       "3   1.000000e-07      True                                C375G         0   \n",
       "4   1.000000e-07      True              C375G G409A A410T T411G         0   \n",
       "5   8.466443e-04     False                   ins45T C375G C426G         1   \n",
       "6   1.000000e-07     False                    C375G A388G A390T         0   \n",
       "7   1.000000e-07      True                    T373A T374A C375T         0   \n",
       "8   1.000000e-07      True              G289A A290G T291A C375G         0   \n",
       "9   3.044539e-05     False                          T337G C375G         0   \n",
       "10  1.000000e-07      True                      T61A C63T C375G         0   \n",
       "11  1.592205e-03     False                ins294T C375G ins545T         2   \n",
       "\n",
       "    has_indel  \n",
       "0        True  \n",
       "1       False  \n",
       "2        True  \n",
       "3       False  \n",
       "4       False  \n",
       "5        True  \n",
       "6       False  \n",
       "7       False  \n",
       "8       False  \n",
       "9       False  \n",
       "10      False  \n",
       "11       True  "
      ]
     },
     "execution_count": 33,
     "metadata": {},
     "output_type": "execute_result"
    }
   ],
   "source": [
    "processed_ccs = processed_ccs.reset_index(drop=True)\n",
    "\n",
    "deltosubs = alignparse.utils.InFrameDeletionsToSubs(geneseq)\n",
    "\n",
    "processed_ccs['gene_mutations_with_del'] = processed_ccs.apply(lambda x: deltosubs.dels_to_subs(x['gene_mutations']), axis=1)\n",
    "\n",
    "processed_ccs = alignparse.consensus.add_mut_info_cols(processed_ccs,\n",
    "                                                       mutation_col='gene_mutations_with_del',\n",
    "                                                       n_indel_col='n_indels')\n",
    "\n",
    "processed_ccs = processed_ccs.assign(has_indel=lambda x: x['n_indels'] > 0)\n",
    "\n",
    "processed_ccs.head(n=12)"
   ]
  },
  {
   "cell_type": "markdown",
   "metadata": {},
   "source": [
    "Plot how many sequences have indels:"
   ]
  },
  {
   "cell_type": "code",
   "execution_count": 34,
   "metadata": {
    "execution": {
     "iopub.execute_input": "2024-02-16T00:48:55.407863Z",
     "iopub.status.busy": "2024-02-16T00:48:55.407506Z",
     "iopub.status.idle": "2024-02-16T00:49:44.386539Z",
     "shell.execute_reply": "2024-02-16T00:49:44.385808Z"
    }
   },
   "outputs": [
    {
     "data": {
      "image/png": "[encoded data removed]",
      "text/plain": [
       "<Figure size 500x300 with 2 Axes>"
      ]
     },
     "metadata": {},
     "output_type": "display_data"
    }
   ],
   "source": [
    "_ = (\n",
    " ggplot(processed_ccs,\n",
    "        aes('retained', fill='has_indel')) +\n",
    " geom_bar(position='dodge') +\n",
    " geom_text(aes(label='..count..'), stat='count', va='bottom', size=7,\n",
    "           position=position_dodge(width=0.9), format_string='{:.2g}') +\n",
    " theme(figure_size=(2.5 * nlibs, 3),\n",
    "       panel_grid_major_x=element_blank(),\n",
    "       ) +\n",
    " ylab('number of CCSs') +\n",
    " scale_fill_manual(values=CBPALETTE[1:]) +\n",
    " facet_wrap('~ library', nrow=1)\n",
    " ).draw()"
   ]
  },
  {
   "cell_type": "markdown",
   "metadata": {},
   "source": [
    "Now get the empirical accuracy for each of the CCS groups mentioned above:"
   ]
  },
  {
   "cell_type": "code",
   "execution_count": 35,
   "metadata": {
    "execution": {
     "iopub.execute_input": "2024-02-16T00:49:44.389958Z",
     "iopub.status.busy": "2024-02-16T00:49:44.389602Z",
     "iopub.status.idle": "2024-02-16T00:49:56.083313Z",
     "shell.execute_reply": "2024-02-16T00:49:56.082470Z"
    }
   },
   "outputs": [],
   "source": [
    "high_acc = config['max_error_rate'] / 10\n",
    "empirical_acc = []\n",
    "\n",
    "for desc, query_str in [\n",
    "        ('retained', 'retained'),\n",
    "        ('retained, no indel', 'retained and not has_indel'),\n",
    "        ('10X accuracy',\n",
    "         f\"(gene_error < {high_acc}) and (barcode_error < {high_acc})\"),\n",
    "        ('10X accuracy, no indel',\n",
    "         f\"(gene_error < {high_acc}) and (barcode_error < {high_acc}) and not has_indel\")\n",
    "        ]:\n",
    "    # get just CCSs in that category\n",
    "    df = processed_ccs.query(query_str)\n",
    "    \n",
    "    # compute empirical accuracy\n",
    "    empirical_acc.append(\n",
    "        alignparse.consensus.empirical_accuracy(df,\n",
    "                                                mutation_col='gene_mutations')\n",
    "        .assign(description=desc)\n",
    "        .merge(df\n",
    "               .groupby('library')\n",
    "               .size()\n",
    "               .rename('number_CCSs')\n",
    "               .reset_index()\n",
    "               )\n",
    "        )\n",
    "\n",
    "# make description categorical to preserve order, and annotate as \"actual\"\n",
    "# the category (\"retained, no indel\") that we will use for building variants.\n",
    "empirical_acc = (\n",
    "    pd.concat(empirical_acc, ignore_index=True, sort=False)\n",
    "    .assign(description=lambda x: pd.Categorical(x['description'],\n",
    "                                                 x['description'].unique(),\n",
    "                                                 ordered=True),\n",
    "            actual=lambda x: numpy.where(x['description'] == 'retained, no indel',\n",
    "                                         True, False),\n",
    "            )\n",
    "    )"
   ]
  },
  {
   "cell_type": "markdown",
   "metadata": {},
   "source": [
    "Display table of the empirical accuracies:"
   ]
  },
  {
   "cell_type": "code",
   "execution_count": 36,
   "metadata": {
    "execution": {
     "iopub.execute_input": "2024-02-16T00:49:56.086802Z",
     "iopub.status.busy": "2024-02-16T00:49:56.086434Z",
     "iopub.status.idle": "2024-02-16T00:49:56.095195Z",
     "shell.execute_reply": "2024-02-16T00:49:56.094467Z"
    }
   },
   "outputs": [
    {
     "data": {
      "text/html": [
       "<table border=\"1\" class=\"dataframe\">\n",
       "  <thead>\n",
       "    <tr style=\"text-align: right;\">\n",
       "      <th>library</th>\n",
       "      <th>accuracy</th>\n",
       "      <th>description</th>\n",
       "      <th>number_CCSs</th>\n",
       "      <th>actual</th>\n",
       "    </tr>\n",
       "  </thead>\n",
       "  <tbody>\n",
       "    <tr>\n",
       "      <td>pool1</td>\n",
       "      <td>0.966304</td>\n",
       "      <td>retained</td>\n",
       "      <td>270875</td>\n",
       "      <td>False</td>\n",
       "    </tr>\n",
       "    <tr>\n",
       "      <td>pool2</td>\n",
       "      <td>0.974827</td>\n",
       "      <td>retained</td>\n",
       "      <td>325225</td>\n",
       "      <td>False</td>\n",
       "    </tr>\n",
       "    <tr>\n",
       "      <td>pool1</td>\n",
       "      <td>0.983319</td>\n",
       "      <td>retained, no indel</td>\n",
       "      <td>265011</td>\n",
       "      <td>True</td>\n",
       "    </tr>\n",
       "    <tr>\n",
       "      <td>pool2</td>\n",
       "      <td>0.987948</td>\n",
       "      <td>retained, no indel</td>\n",
       "      <td>319497</td>\n",
       "      <td>True</td>\n",
       "    </tr>\n",
       "    <tr>\n",
       "      <td>pool1</td>\n",
       "      <td>0.972431</td>\n",
       "      <td>10X accuracy</td>\n",
       "      <td>250713</td>\n",
       "      <td>False</td>\n",
       "    </tr>\n",
       "    <tr>\n",
       "      <td>pool2</td>\n",
       "      <td>0.979327</td>\n",
       "      <td>10X accuracy</td>\n",
       "      <td>301958</td>\n",
       "      <td>False</td>\n",
       "    </tr>\n",
       "    <tr>\n",
       "      <td>pool1</td>\n",
       "      <td>0.984296</td>\n",
       "      <td>10X accuracy, no indel</td>\n",
       "      <td>246596</td>\n",
       "      <td>False</td>\n",
       "    </tr>\n",
       "    <tr>\n",
       "      <td>pool2</td>\n",
       "      <td>0.988371</td>\n",
       "      <td>10X accuracy, no indel</td>\n",
       "      <td>297925</td>\n",
       "      <td>False</td>\n",
       "    </tr>\n",
       "  </tbody>\n",
       "</table>"
      ],
      "text/plain": [
       "<IPython.core.display.HTML object>"
      ]
     },
     "metadata": {},
     "output_type": "display_data"
    }
   ],
   "source": [
    "display(HTML(empirical_acc.to_html(index=False)))"
   ]
  },
  {
   "cell_type": "markdown",
   "metadata": {},
   "source": [
    "Plot the empirical accuracies, using a different color to show the category that we will actually use:"
   ]
  },
  {
   "cell_type": "code",
   "execution_count": 37,
   "metadata": {
    "execution": {
     "iopub.execute_input": "2024-02-16T00:49:56.098511Z",
     "iopub.status.busy": "2024-02-16T00:49:56.098092Z",
     "iopub.status.idle": "2024-02-16T00:49:57.388792Z",
     "shell.execute_reply": "2024-02-16T00:49:57.388089Z"
    }
   },
   "outputs": [
    {
     "name": "stdout",
     "output_type": "stream",
     "text": [
      "Saving plot to results/figures/empirical_CCS_accuracy_FLip.pdf\n"
     ]
    },
    {
     "data": {
      "image/png": "[encoded data removed]",
      "text/plain": [
       "<Figure size 350x225 with 2 Axes>"
      ]
     },
     "metadata": {},
     "output_type": "display_data"
    }
   ],
   "source": [
    "p = (\n",
    "    ggplot(empirical_acc,\n",
    "           aes('description', 'accuracy', color='actual', label='accuracy')\n",
    "           ) +\n",
    "    geom_point(size=3) +\n",
    "    geom_text(va='bottom', size=9, format_string='{:.3g}', nudge_y=0.003) +\n",
    "    facet_wrap('~ library', ncol=8) +\n",
    "    theme(figure_size=(1.75 * nlibs, 2.25),\n",
    "          axis_text_x=element_text(angle=90),\n",
    "          panel_grid_major_x=element_blank(),\n",
    "          ) +\n",
    "    xlab('') +\n",
    "    scale_y_continuous(name='empirical accuracy', limits=(0.2, 1.005)) +\n",
    "    scale_color_manual(values=CBPALETTE, guide=False)\n",
    "    )\n",
    "\n",
    "plotfile = os.path.join(config['figs_dir'], 'empirical_CCS_accuracy_' + background + '.pdf')\n",
    "print(f\"Saving plot to {plotfile}\")\n",
    "_ = p.draw()\n",
    "p.save(plotfile)\n"
   ]
  },
  {
   "cell_type": "markdown",
   "metadata": {},
   "source": [
    "The above analysis shows that if we exclude sequences with indels (which we plan to do among our consensus sequences), then the accuracy of each CCS is around 99%. \n",
    "We do **not** get notably higher empirical accuracy by imposing a more stringent filter from the PacBio `ccs` program, indicating that the major sources of error are due to processes that are not modeled in this program's accuracy filter (perhaps strand exchange or barcode sharing).\n",
    "\n",
    "Note that this empirical accuracy is for a **single** CCS.\n",
    "When we build the consensus sequences for each barcode below, we will take the consensus of CCSs within a barcode.\n",
    "So for barcodes with multiple CCSs, the actual accuracy of the consensus sequences will be higher than the empirical accuracy above due to capturing information from multiple CCSs."
   ]
  },
  {
   "cell_type": "markdown",
   "metadata": {},
   "source": [
    "### Consensus sequences for barcodes\n",
    "We call the consensus sequence for each barcode using the simple method implemented in [alignparse.consensus.simple_mutconsensus](https://jbloomlab.github.io/alignparse/alignparse.consensus.html?highlight=simple_mutconsensus#alignparse.consensus.simple_mutconsensus).\n",
    "The documentation for that function explains the method in detail, but basically it works like this:\n",
    " 1. When there is just one CCS per barcode, the consensus is just that sequence.\n",
    " 2. When there are multiple CCSs per barcode, they are used to build a consensus--however, the entire barcode is discarded if there are many differences between CCSs with the barcode, or high-frequency non-consensus mutations. The reason that barcodes are discarded in such cases as many differences between CCSs or high-frequency non-consensus mutations suggest errors such as barcode collisions or strand exchange.\n",
    " \n",
    "First, call the consensus for each barcode including **all** retained sequences, even those with undesirable indels."
   ]
  },
  {
   "cell_type": "code",
   "execution_count": 38,
   "metadata": {
    "execution": {
     "iopub.execute_input": "2024-02-16T00:49:57.392206Z",
     "iopub.status.busy": "2024-02-16T00:49:57.391787Z",
     "iopub.status.idle": "2024-02-16T00:51:04.315672Z",
     "shell.execute_reply": "2024-02-16T00:51:04.314849Z"
    }
   },
   "outputs": [],
   "source": [
    "consensus, dropped = alignparse.consensus.simple_mutconsensus(\n",
    "                        processed_ccs.query('retained'),\n",
    "                        group_cols=('library', 'barcode', 'target'),\n",
    "                        mutation_col='gene_mutations_with_del',\n",
    "                        )"
   ]
  },
  {
   "cell_type": "markdown",
   "metadata": {},
   "source": [
    "Here are the first few lines of the data frame of consensus sequences for each barcode.\n",
    "In addition to giving the library, barcode, target, and mutations, it also has a column indicating how many CCSs support the variant call:"
   ]
  },
  {
   "cell_type": "code",
   "execution_count": 39,
   "metadata": {
    "execution": {
     "iopub.execute_input": "2024-02-16T00:51:04.319289Z",
     "iopub.status.busy": "2024-02-16T00:51:04.318922Z",
     "iopub.status.idle": "2024-02-16T00:51:04.327601Z",
     "shell.execute_reply": "2024-02-16T00:51:04.326858Z"
    }
   },
   "outputs": [
    {
     "data": {
      "text/html": [
       "<table border=\"1\" class=\"dataframe\">\n",
       "  <thead>\n",
       "    <tr style=\"text-align: right;\">\n",
       "      <th>library</th>\n",
       "      <th>barcode</th>\n",
       "      <th>target</th>\n",
       "      <th>gene_mutations_with_del</th>\n",
       "      <th>variant_call_support</th>\n",
       "    </tr>\n",
       "  </thead>\n",
       "  <tbody>\n",
       "    <tr>\n",
       "      <td>pool1</td>\n",
       "      <td>AAAAAAAAAAGATTGT</td>\n",
       "      <td>FLip</td>\n",
       "      <td>C375G A535G A537T</td>\n",
       "      <td>3</td>\n",
       "    </tr>\n",
       "    <tr>\n",
       "      <td>pool1</td>\n",
       "      <td>AAAAAAAAAATTAATG</td>\n",
       "      <td>FLip</td>\n",
       "      <td>A88C C90A C375G del81to81</td>\n",
       "      <td>6</td>\n",
       "    </tr>\n",
       "    <tr>\n",
       "      <td>pool1</td>\n",
       "      <td>AAAAAAAAACAATTGT</td>\n",
       "      <td>FLip</td>\n",
       "      <td>G80C A81T C375G T400G T401G C402T</td>\n",
       "      <td>1</td>\n",
       "    </tr>\n",
       "    <tr>\n",
       "      <td>pool1</td>\n",
       "      <td>AAAAAAAAACTATACA</td>\n",
       "      <td>FLip</td>\n",
       "      <td>C235T A236G A237G C375G</td>\n",
       "      <td>1</td>\n",
       "    </tr>\n",
       "    <tr>\n",
       "      <td>pool1</td>\n",
       "      <td>AAAAAAAAAGAAAGTT</td>\n",
       "      <td>FLip</td>\n",
       "      <td>T169G T170A G171T C375G</td>\n",
       "      <td>1</td>\n",
       "    </tr>\n",
       "  </tbody>\n",
       "</table>"
      ],
      "text/plain": [
       "<IPython.core.display.HTML object>"
      ]
     },
     "metadata": {},
     "output_type": "display_data"
    }
   ],
   "source": [
    "display(HTML(consensus.head().to_html(index=False)))"
   ]
  },
  {
   "cell_type": "markdown",
   "metadata": {},
   "source": [
    "Since we retain variants with substitutions and single-codon deletions, add information about substitution mutations, and for troubleshooting, number of indels:"
   ]
  },
  {
   "cell_type": "code",
   "execution_count": 40,
   "metadata": {
    "execution": {
     "iopub.execute_input": "2024-02-16T00:51:04.330921Z",
     "iopub.status.busy": "2024-02-16T00:51:04.330509Z",
     "iopub.status.idle": "2024-02-16T00:51:09.087345Z",
     "shell.execute_reply": "2024-02-16T00:51:09.086569Z"
    }
   },
   "outputs": [
    {
     "data": {
      "text/html": [
       "<table border=\"1\" class=\"dataframe\">\n",
       "  <thead>\n",
       "    <tr style=\"text-align: right;\">\n",
       "      <th>library</th>\n",
       "      <th>barcode</th>\n",
       "      <th>target</th>\n",
       "      <th>gene_mutations_with_del</th>\n",
       "      <th>variant_call_support</th>\n",
       "      <th>substitutions</th>\n",
       "      <th>deletions</th>\n",
       "      <th>insertions</th>\n",
       "      <th>number_of_indels</th>\n",
       "    </tr>\n",
       "  </thead>\n",
       "  <tbody>\n",
       "    <tr>\n",
       "      <td>pool1</td>\n",
       "      <td>AAAAAAAAAAGATTGT</td>\n",
       "      <td>FLip</td>\n",
       "      <td>C375G A535G A537T</td>\n",
       "      <td>3</td>\n",
       "      <td>C375G A535G A537T</td>\n",
       "      <td></td>\n",
       "      <td></td>\n",
       "      <td>0</td>\n",
       "    </tr>\n",
       "    <tr>\n",
       "      <td>pool1</td>\n",
       "      <td>AAAAAAAAAATTAATG</td>\n",
       "      <td>FLip</td>\n",
       "      <td>A88C C90A C375G del81to81</td>\n",
       "      <td>6</td>\n",
       "      <td>A88C C90A C375G</td>\n",
       "      <td>del81to81</td>\n",
       "      <td></td>\n",
       "      <td>1</td>\n",
       "    </tr>\n",
       "    <tr>\n",
       "      <td>pool1</td>\n",
       "      <td>AAAAAAAAACAATTGT</td>\n",
       "      <td>FLip</td>\n",
       "      <td>G80C A81T C375G T400G T401G C402T</td>\n",
       "      <td>1</td>\n",
       "      <td>G80C A81T C375G T400G T401G C402T</td>\n",
       "      <td></td>\n",
       "      <td></td>\n",
       "      <td>0</td>\n",
       "    </tr>\n",
       "    <tr>\n",
       "      <td>pool1</td>\n",
       "      <td>AAAAAAAAACTATACA</td>\n",
       "      <td>FLip</td>\n",
       "      <td>C235T A236G A237G C375G</td>\n",
       "      <td>1</td>\n",
       "      <td>C235T A236G A237G C375G</td>\n",
       "      <td></td>\n",
       "      <td></td>\n",
       "      <td>0</td>\n",
       "    </tr>\n",
       "    <tr>\n",
       "      <td>pool1</td>\n",
       "      <td>AAAAAAAAAGAAAGTT</td>\n",
       "      <td>FLip</td>\n",
       "      <td>T169G T170A G171T C375G</td>\n",
       "      <td>1</td>\n",
       "      <td>T169G T170A G171T C375G</td>\n",
       "      <td></td>\n",
       "      <td></td>\n",
       "      <td>0</td>\n",
       "    </tr>\n",
       "  </tbody>\n",
       "</table>"
      ],
      "text/plain": [
       "<IPython.core.display.HTML object>"
      ]
     },
     "metadata": {},
     "output_type": "display_data"
    }
   ],
   "source": [
    "consensus = alignparse.consensus.add_mut_info_cols(\n",
    "                    consensus,\n",
    "                    mutation_col='gene_mutations_with_del',\n",
    "                    sub_str_col='substitutions',\n",
    "                    del_str_col='deletions',\n",
    "                    ins_str_col='insertions',\n",
    "                    n_indel_col='number_of_indels',\n",
    "                    overwrite_cols=True)\n",
    "\n",
    "display(HTML(consensus.head().to_html(index=False)))"
   ]
  },
  {
   "cell_type": "markdown",
   "metadata": {},
   "source": [
    "Plot distribution of number of CCSs supporting each variant call (consensus), indicating whether or not there is an indel:"
   ]
  },
  {
   "cell_type": "code",
   "execution_count": 41,
   "metadata": {
    "execution": {
     "iopub.execute_input": "2024-02-16T00:51:09.090727Z",
     "iopub.status.busy": "2024-02-16T00:51:09.090354Z",
     "iopub.status.idle": "2024-02-16T00:51:12.930639Z",
     "shell.execute_reply": "2024-02-16T00:51:12.929913Z"
    }
   },
   "outputs": [
    {
     "data": {
      "image/png": "[encoded data removed]",
      "text/plain": [
       "<Figure size 350x350 with 4 Axes>"
      ]
     },
     "metadata": {},
     "output_type": "display_data"
    }
   ],
   "source": [
    "max_variant_call_support = 6  # group variants with >= this much support\n",
    "\n",
    "_ = (\n",
    " ggplot(consensus\n",
    "        .assign(variant_call_support=lambda x: numpy.clip(x['variant_call_support'],\n",
    "                                                          None,\n",
    "                                                          max_variant_call_support),\n",
    "                indel_state=lambda x: numpy.where(x['number_of_indels'] > 0,\n",
    "                                                  'has indel', 'no indel')\n",
    "                ),\n",
    "        aes('variant_call_support')) +\n",
    " geom_bar() +\n",
    " ylab('number of variants') +\n",
    " facet_grid('indel_state ~ library') +\n",
    " theme(figure_size=(1.75 * nlibs, 3.5),\n",
    "       panel_grid_major_x=element_blank(),\n",
    "       ) \n",
    " ).draw()"
   ]
  },
  {
   "cell_type": "markdown",
   "metadata": {},
   "source": [
    "We see that most variant consensus sequences do **not** have indels, especially if we limit to the more \"accurate\" ones that have multiple CCSs supporting them.\n",
    "\n",
    "We will ignore all consensus sequences with indels in the variant-barcode lookup table. \n",
    "We do this for two reasons:\n",
    " 1. When there is just one CCS supporting a consensus, it is less likely to be accurate as indels are the main mode of PacBio error.\n",
    " 2. For the purposes of our studies, we are interested in point mutations rather than indels anyway.\n",
    " \n",
    "Here are number of valid consensus sequence (no indels) for each library and target:"
   ]
  },
  {
   "cell_type": "code",
   "execution_count": 42,
   "metadata": {
    "execution": {
     "iopub.execute_input": "2024-02-16T00:51:12.934154Z",
     "iopub.status.busy": "2024-02-16T00:51:12.933630Z",
     "iopub.status.idle": "2024-02-16T00:51:13.379449Z",
     "shell.execute_reply": "2024-02-16T00:51:13.378728Z"
    }
   },
   "outputs": [
    {
     "data": {
      "text/html": [
       "<table border=\"1\" class=\"dataframe\">\n",
       "  <thead>\n",
       "    <tr style=\"text-align: right;\">\n",
       "      <th>library</th>\n",
       "      <th>target</th>\n",
       "      <th>consensus sequences</th>\n",
       "    </tr>\n",
       "  </thead>\n",
       "  <tbody>\n",
       "    <tr>\n",
       "      <td>pool1</td>\n",
       "      <td>FLip</td>\n",
       "      <td>103977</td>\n",
       "    </tr>\n",
       "    <tr>\n",
       "      <td>pool2</td>\n",
       "      <td>FLip</td>\n",
       "      <td>101239</td>\n",
       "    </tr>\n",
       "  </tbody>\n",
       "</table>"
      ],
      "text/plain": [
       "<IPython.core.display.HTML object>"
      ]
     },
     "metadata": {},
     "output_type": "display_data"
    },
    {
     "data": {
      "image/png": "[encoded data removed]",
      "text/plain": [
       "<Figure size 100x175 with 1 Axes>"
      ]
     },
     "metadata": {},
     "output_type": "display_data"
    }
   ],
   "source": [
    "consensus = consensus.query('number_of_indels < 1')\n",
    "\n",
    "lib_target_counts = (\n",
    "    consensus\n",
    "    .groupby(['library', 'target'])\n",
    "    .size()\n",
    "    .rename('consensus sequences')\n",
    "    .reset_index()\n",
    "    )\n",
    "\n",
    "display(HTML(lib_target_counts.to_html(index=False)))\n",
    "\n",
    "p = (ggplot(lib_target_counts.assign(xlabel=lambda x: x['target'] + ', ' + x['library']),\n",
    "            aes('xlabel', 'consensus sequences')) +\n",
    "     geom_point(size=3) +\n",
    "     theme(figure_size=(0.5 * nlibs * ntargets, 1.75),\n",
    "           axis_text_x=element_text(angle=90)) +\n",
    "     xlab('') +\n",
    "     scale_y_log10()\n",
    "     )\n",
    "\n",
    "_ = p.draw()"
   ]
  },
  {
   "cell_type": "markdown",
   "metadata": {},
   "source": [
    "Below we write the retained consensus sequences to a CSV file that links the nucleotide mutations to the barcodes.\n",
    "(The next section analyzes this variant table in detail, and provides have more precise information on the number of variants and relevant statistics):"
   ]
  },
  {
   "cell_type": "code",
   "execution_count": 43,
   "metadata": {
    "execution": {
     "iopub.execute_input": "2024-02-16T00:51:13.382775Z",
     "iopub.status.busy": "2024-02-16T00:51:13.382421Z",
     "iopub.status.idle": "2024-02-16T00:51:15.553773Z",
     "shell.execute_reply": "2024-02-16T00:51:15.553034Z"
    }
   },
   "outputs": [
    {
     "name": "stdout",
     "output_type": "stream",
     "text": [
      "Writing nucleotide variants to results/variants/nucleotide_variant_table_FLip.csv\n",
      "Here are the first few lines of this file:\n"
     ]
    },
    {
     "data": {
      "text/html": [
       "<table border=\"1\" class=\"dataframe\">\n",
       "  <thead>\n",
       "    <tr style=\"text-align: right;\">\n",
       "      <th>target</th>\n",
       "      <th>library</th>\n",
       "      <th>barcode</th>\n",
       "      <th>gene_mutations_with_del</th>\n",
       "      <th>substitutions</th>\n",
       "      <th>insertions</th>\n",
       "      <th>deletions</th>\n",
       "      <th>variant_call_support</th>\n",
       "    </tr>\n",
       "  </thead>\n",
       "  <tbody>\n",
       "    <tr>\n",
       "      <td>FLip</td>\n",
       "      <td>pool1</td>\n",
       "      <td>AAAAAAAAAAGATTGT</td>\n",
       "      <td>C375G A535G A537T</td>\n",
       "      <td>C375G A535G A537T</td>\n",
       "      <td></td>\n",
       "      <td></td>\n",
       "      <td>3</td>\n",
       "    </tr>\n",
       "    <tr>\n",
       "      <td>FLip</td>\n",
       "      <td>pool1</td>\n",
       "      <td>AAAAAAAAACAATTGT</td>\n",
       "      <td>G80C A81T C375G T400G T401G C402T</td>\n",
       "      <td>G80C A81T C375G T400G T401G C402T</td>\n",
       "      <td></td>\n",
       "      <td></td>\n",
       "      <td>1</td>\n",
       "    </tr>\n",
       "    <tr>\n",
       "      <td>FLip</td>\n",
       "      <td>pool1</td>\n",
       "      <td>AAAAAAAAACTATACA</td>\n",
       "      <td>C235T A236G A237G C375G</td>\n",
       "      <td>C235T A236G A237G C375G</td>\n",
       "      <td></td>\n",
       "      <td></td>\n",
       "      <td>1</td>\n",
       "    </tr>\n",
       "    <tr>\n",
       "      <td>FLip</td>\n",
       "      <td>pool1</td>\n",
       "      <td>AAAAAAAAAGAAAGTT</td>\n",
       "      <td>T169G T170A G171T C375G</td>\n",
       "      <td>T169G T170A G171T C375G</td>\n",
       "      <td></td>\n",
       "      <td></td>\n",
       "      <td>1</td>\n",
       "    </tr>\n",
       "    <tr>\n",
       "      <td>FLip</td>\n",
       "      <td>pool1</td>\n",
       "      <td>AAAAAAAAAGACTTCT</td>\n",
       "      <td>T155C C375G</td>\n",
       "      <td>T155C C375G</td>\n",
       "      <td></td>\n",
       "      <td></td>\n",
       "      <td>3</td>\n",
       "    </tr>\n",
       "  </tbody>\n",
       "</table>"
      ],
      "text/plain": [
       "<IPython.core.display.HTML object>"
      ]
     },
     "metadata": {},
     "output_type": "display_data"
    }
   ],
   "source": [
    "print(f\"Writing nucleotide variants to {config['nt_variant_table_file' + '_' + background]}\")\n",
    "      \n",
    "(consensus\n",
    " [['target', 'library', 'barcode', 'gene_mutations_with_del', 'substitutions', 'insertions','deletions', 'variant_call_support']]\n",
    " .to_csv(config['nt_variant_table_file' + '_' + background], index=False)\n",
    " )\n",
    "      \n",
    "print('Here are the first few lines of this file:')\n",
    "display(HTML(\n",
    "    pd.read_csv(config['nt_variant_table_file' + '_' + background], na_filter=None)\n",
    "    .head()\n",
    "    .to_html(index=False)\n",
    "    ))"
   ]
  },
  {
   "cell_type": "markdown",
   "metadata": {},
   "source": [
    "What happened to the barcodes that we \"dropped\" because we could not construct a reliable consensus?\n",
    "The `dropped` data frame from [alignparse.consensus.simple_mutconsensus](https://jbloomlab.github.io/alignparse/alignparse.consensus.html?highlight=simple_mutconsensus#alignparse.consensus.simple_mutconsensus) has this information:"
   ]
  },
  {
   "cell_type": "code",
   "execution_count": 44,
   "metadata": {
    "execution": {
     "iopub.execute_input": "2024-02-16T00:51:15.557106Z",
     "iopub.status.busy": "2024-02-16T00:51:15.556744Z",
     "iopub.status.idle": "2024-02-16T00:51:15.565126Z",
     "shell.execute_reply": "2024-02-16T00:51:15.564381Z"
    }
   },
   "outputs": [
    {
     "data": {
      "text/html": [
       "<table border=\"1\" class=\"dataframe\">\n",
       "  <thead>\n",
       "    <tr style=\"text-align: right;\">\n",
       "      <th>library</th>\n",
       "      <th>barcode</th>\n",
       "      <th>target</th>\n",
       "      <th>drop_reason</th>\n",
       "      <th>nseqs</th>\n",
       "    </tr>\n",
       "  </thead>\n",
       "  <tbody>\n",
       "    <tr>\n",
       "      <td>pool1</td>\n",
       "      <td>AAAAAAAAAATTGGCG</td>\n",
       "      <td>FLip</td>\n",
       "      <td>subs diff too large</td>\n",
       "      <td>2</td>\n",
       "    </tr>\n",
       "    <tr>\n",
       "      <td>pool1</td>\n",
       "      <td>AAAAAAAAAGTCATGA</td>\n",
       "      <td>FLip</td>\n",
       "      <td>subs diff too large</td>\n",
       "      <td>7</td>\n",
       "    </tr>\n",
       "    <tr>\n",
       "      <td>pool1</td>\n",
       "      <td>AAAAAAAAATCTCTTT</td>\n",
       "      <td>FLip</td>\n",
       "      <td>subs diff too large</td>\n",
       "      <td>2</td>\n",
       "    </tr>\n",
       "    <tr>\n",
       "      <td>pool1</td>\n",
       "      <td>AAAAAAAAGGTTTGTG</td>\n",
       "      <td>FLip</td>\n",
       "      <td>subs diff too large</td>\n",
       "      <td>2</td>\n",
       "    </tr>\n",
       "    <tr>\n",
       "      <td>pool1</td>\n",
       "      <td>AAAAAAACAATCACAA</td>\n",
       "      <td>FLip</td>\n",
       "      <td>minor subs too frequent</td>\n",
       "      <td>5</td>\n",
       "    </tr>\n",
       "  </tbody>\n",
       "</table>"
      ],
      "text/plain": [
       "<IPython.core.display.HTML object>"
      ]
     },
     "metadata": {},
     "output_type": "display_data"
    }
   ],
   "source": [
    "display(HTML(dropped.head().to_html(index=False)))"
   ]
  },
  {
   "cell_type": "markdown",
   "metadata": {},
   "source": [
    "Summarize the information in this data frame on dropped barcodes with the plot below.\n",
    "This plot shows several things.\n",
    "First, we see that the total number of barcodes dropped is modest (just a few thousand per library) relative to the total number of barcodes per library (seen above to be on the order of hundreds of thousands).\n",
    "Second, the main reason that barcodes are dropped is that there are CCSs within the same barcode with suspiciously large numbers of mutations relative to the consensus---which we use as a filter to discard the entire barcode as it could indicate strand exchange or some other issue.\n",
    "In any case, the modest number of dropped barcodes indicates that there probably isn't much of a need to worry: "
   ]
  },
  {
   "cell_type": "code",
   "execution_count": 45,
   "metadata": {
    "execution": {
     "iopub.execute_input": "2024-02-16T00:51:15.568412Z",
     "iopub.status.busy": "2024-02-16T00:51:15.568003Z",
     "iopub.status.idle": "2024-02-16T00:51:17.240954Z",
     "shell.execute_reply": "2024-02-16T00:51:17.240243Z"
    }
   },
   "outputs": [
    {
     "data": {
      "image/png": "[encoded data removed]",
      "text/plain": [
       "<Figure size 1000x300 with 6 Axes>"
      ]
     },
     "metadata": {},
     "output_type": "display_data"
    }
   ],
   "source": [
    "max_nseqs = 8  # plot together all barcodes with >= this many sequences\n",
    "\n",
    "_ = (\n",
    " ggplot(\n",
    "    dropped.assign(nseqs=lambda x: numpy.clip(x['nseqs'], None, max_nseqs)),\n",
    "    aes('nseqs')) + \n",
    " geom_bar() + \n",
    " scale_x_continuous(limits=(1, None)) +\n",
    " xlab('number of sequences for barcode') +\n",
    " ylab('number of barcodes') +\n",
    " facet_grid('library ~ drop_reason') +\n",
    " theme(figure_size=(10, 1.5 * nlibs),\n",
    "       panel_grid_major_x=element_blank(),\n",
    "       )\n",
    " ).draw()"
   ]
  },
  {
   "cell_type": "markdown",
   "metadata": {},
   "source": [
    "## Create barcode-variant table\n",
    "We now create a [CodonVariantTable](https://jbloomlab.github.io/dms_variants/dms_variants.codonvarianttable.html#dms_variants.codonvarianttable.CodonVariantTable) that stores and processes all the information about the variant consensus sequences.\n",
    "Below we initialize such a table, and then analyze information about its composition. **Note, I believe this table eliminates our indel mutants, so we probably need to go back to the nt variants table to parse indels ourselves. Nonetheless, we'll keep this here so we can see what our (amino acid) mutant coverage looks like**\n",
    "\n",
    "### Initialize codon variant table\n",
    "In order to initialize the codon variant table, we need two pieces of information:\n",
    "  1. The wildtype gene sequence.\n",
    "  2. The list of nucleotide mutations for each variant as determined in the consensus calling above.\n",
    "\n",
    "Read \"wildtype\" gene sequence to which we made the alignments (in order to do this, initialize an `alignparse.Targets` and get the gene sequence from it):"
   ]
  },
  {
   "cell_type": "code",
   "execution_count": 46,
   "metadata": {
    "execution": {
     "iopub.execute_input": "2024-02-16T00:51:17.244320Z",
     "iopub.status.busy": "2024-02-16T00:51:17.243896Z",
     "iopub.status.idle": "2024-02-16T00:51:17.256964Z",
     "shell.execute_reply": "2024-02-16T00:51:17.256246Z"
    }
   },
   "outputs": [
    {
     "name": "stdout",
     "output_type": "stream",
     "text": [
      "Read gene of 603 nts for FLip from data/PacBio_amplicon_FLip.gb\n"
     ]
    }
   ],
   "source": [
    "targets = alignparse.targets.Targets(seqsfile=config['amplicons_' + background],\n",
    "                                     feature_parse_specs=config['feature_parse_specs_' + background])\n",
    "geneseq = targets.get_target(background).get_feature('gene').seq\n",
    "\n",
    "print(f\"Read gene of {len(geneseq)} nts for {background} from {config['amplicons_' + background]}\")"
   ]
  },
  {
   "cell_type": "markdown",
   "metadata": {},
   "source": [
    "Now initialize the codon variant table using this wildtype sequence and our list of nucleotide mutations for each variant:"
   ]
  },
  {
   "cell_type": "code",
   "execution_count": 47,
   "metadata": {
    "execution": {
     "iopub.execute_input": "2024-02-16T00:51:17.260240Z",
     "iopub.status.busy": "2024-02-16T00:51:17.259832Z",
     "iopub.status.idle": "2024-02-16T00:51:32.808398Z",
     "shell.execute_reply": "2024-02-16T00:51:32.807621Z"
    }
   },
   "outputs": [
    {
     "data": {
      "text/html": [
       "<div>\n",
       "<style scoped>\n",
       "    .dataframe tbody tr th:only-of-type {\n",
       "        vertical-align: middle;\n",
       "    }\n",
       "\n",
       "    .dataframe tbody tr th {\n",
       "        vertical-align: top;\n",
       "    }\n",
       "\n",
       "    .dataframe thead th {\n",
       "        text-align: right;\n",
       "    }\n",
       "</style>\n",
       "<table border=\"1\" class=\"dataframe\">\n",
       "  <thead>\n",
       "    <tr style=\"text-align: right;\">\n",
       "      <th></th>\n",
       "      <th>target</th>\n",
       "      <th>library</th>\n",
       "      <th>barcode</th>\n",
       "      <th>variant_call_support</th>\n",
       "      <th>codon_substitutions</th>\n",
       "      <th>aa_substitutions</th>\n",
       "      <th>n_codon_substitutions</th>\n",
       "      <th>n_aa_substitutions</th>\n",
       "    </tr>\n",
       "  </thead>\n",
       "  <tbody>\n",
       "    <tr>\n",
       "      <th>0</th>\n",
       "      <td>FLip</td>\n",
       "      <td>pool1</td>\n",
       "      <td>AAAAAAAAAAGATTGT</td>\n",
       "      <td>3</td>\n",
       "      <td>TTC125TTG AGA179GGT</td>\n",
       "      <td>F125L R179G</td>\n",
       "      <td>2</td>\n",
       "      <td>2</td>\n",
       "    </tr>\n",
       "    <tr>\n",
       "      <th>1</th>\n",
       "      <td>FLip</td>\n",
       "      <td>pool1</td>\n",
       "      <td>AAAAAAAAACAATTGT</td>\n",
       "      <td>1</td>\n",
       "      <td>AGA27ACT TTC125TTG TTC134GGT</td>\n",
       "      <td>R27T F125L F134G</td>\n",
       "      <td>3</td>\n",
       "      <td>3</td>\n",
       "    </tr>\n",
       "    <tr>\n",
       "      <th>2</th>\n",
       "      <td>FLip</td>\n",
       "      <td>pool1</td>\n",
       "      <td>AAAAAAAAACTATACA</td>\n",
       "      <td>1</td>\n",
       "      <td>CAA79TGG TTC125TTG</td>\n",
       "      <td>Q79W F125L</td>\n",
       "      <td>2</td>\n",
       "      <td>2</td>\n",
       "    </tr>\n",
       "    <tr>\n",
       "      <th>3</th>\n",
       "      <td>FLip</td>\n",
       "      <td>pool1</td>\n",
       "      <td>AAAAAAAAAGAAAGTT</td>\n",
       "      <td>1</td>\n",
       "      <td>TTG57GAT TTC125TTG</td>\n",
       "      <td>L57D F125L</td>\n",
       "      <td>2</td>\n",
       "      <td>2</td>\n",
       "    </tr>\n",
       "    <tr>\n",
       "      <th>4</th>\n",
       "      <td>FLip</td>\n",
       "      <td>pool1</td>\n",
       "      <td>AAAAAAAAAGACTTCT</td>\n",
       "      <td>3</td>\n",
       "      <td>GTT52GCT TTC125TTG</td>\n",
       "      <td>V52A F125L</td>\n",
       "      <td>2</td>\n",
       "      <td>2</td>\n",
       "    </tr>\n",
       "    <tr>\n",
       "      <th>5</th>\n",
       "      <td>FLip</td>\n",
       "      <td>pool1</td>\n",
       "      <td>AAAAAAAAAGCTAAAA</td>\n",
       "      <td>2</td>\n",
       "      <td>TTC125TTG TCT200TTG</td>\n",
       "      <td>F125L S200L</td>\n",
       "      <td>2</td>\n",
       "      <td>2</td>\n",
       "    </tr>\n",
       "    <tr>\n",
       "      <th>6</th>\n",
       "      <td>FLip</td>\n",
       "      <td>pool1</td>\n",
       "      <td>AAAAAAAAAGTCCGTA</td>\n",
       "      <td>1</td>\n",
       "      <td>TTC125TTG GGT172GTT</td>\n",
       "      <td>F125L G172V</td>\n",
       "      <td>2</td>\n",
       "      <td>2</td>\n",
       "    </tr>\n",
       "    <tr>\n",
       "      <th>7</th>\n",
       "      <td>FLip</td>\n",
       "      <td>pool1</td>\n",
       "      <td>AAAAAAAAATAAACAT</td>\n",
       "      <td>3</td>\n",
       "      <td>AAT13TTG TTC125TTG</td>\n",
       "      <td>N13L F125L</td>\n",
       "      <td>2</td>\n",
       "      <td>2</td>\n",
       "    </tr>\n",
       "    <tr>\n",
       "      <th>8</th>\n",
       "      <td>FLip</td>\n",
       "      <td>pool1</td>\n",
       "      <td>AAAAAAAAATACACTA</td>\n",
       "      <td>1</td>\n",
       "      <td>TAT35TGG TTC125TTG</td>\n",
       "      <td>Y35W F125L</td>\n",
       "      <td>2</td>\n",
       "      <td>2</td>\n",
       "    </tr>\n",
       "    <tr>\n",
       "      <th>9</th>\n",
       "      <td>FLip</td>\n",
       "      <td>pool1</td>\n",
       "      <td>AAAAAAAAATAGGTAG</td>\n",
       "      <td>1</td>\n",
       "      <td>TTC125TTG</td>\n",
       "      <td>F125L</td>\n",
       "      <td>1</td>\n",
       "      <td>1</td>\n",
       "    </tr>\n",
       "    <tr>\n",
       "      <th>10</th>\n",
       "      <td>FLip</td>\n",
       "      <td>pool1</td>\n",
       "      <td>AAAAAAAAATATTTCG</td>\n",
       "      <td>1</td>\n",
       "      <td>TTC125TTG TGT158GCT</td>\n",
       "      <td>F125L C158A</td>\n",
       "      <td>2</td>\n",
       "      <td>2</td>\n",
       "    </tr>\n",
       "    <tr>\n",
       "      <th>11</th>\n",
       "      <td>FLip</td>\n",
       "      <td>pool1</td>\n",
       "      <td>AAAAAAAAATCACAAA</td>\n",
       "      <td>1</td>\n",
       "      <td>TTC125TTG TTG131TCT</td>\n",
       "      <td>F125L L131S</td>\n",
       "      <td>2</td>\n",
       "      <td>2</td>\n",
       "    </tr>\n",
       "  </tbody>\n",
       "</table>\n",
       "</div>"
      ],
      "text/plain": [
       "   target library           barcode  variant_call_support  \\\n",
       "0    FLip   pool1  AAAAAAAAAAGATTGT                     3   \n",
       "1    FLip   pool1  AAAAAAAAACAATTGT                     1   \n",
       "2    FLip   pool1  AAAAAAAAACTATACA                     1   \n",
       "3    FLip   pool1  AAAAAAAAAGAAAGTT                     1   \n",
       "4    FLip   pool1  AAAAAAAAAGACTTCT                     3   \n",
       "5    FLip   pool1  AAAAAAAAAGCTAAAA                     2   \n",
       "6    FLip   pool1  AAAAAAAAAGTCCGTA                     1   \n",
       "7    FLip   pool1  AAAAAAAAATAAACAT                     3   \n",
       "8    FLip   pool1  AAAAAAAAATACACTA                     1   \n",
       "9    FLip   pool1  AAAAAAAAATAGGTAG                     1   \n",
       "10   FLip   pool1  AAAAAAAAATATTTCG                     1   \n",
       "11   FLip   pool1  AAAAAAAAATCACAAA                     1   \n",
       "\n",
       "             codon_substitutions  aa_substitutions  n_codon_substitutions  \\\n",
       "0            TTC125TTG AGA179GGT       F125L R179G                      2   \n",
       "1   AGA27ACT TTC125TTG TTC134GGT  R27T F125L F134G                      3   \n",
       "2             CAA79TGG TTC125TTG        Q79W F125L                      2   \n",
       "3             TTG57GAT TTC125TTG        L57D F125L                      2   \n",
       "4             GTT52GCT TTC125TTG        V52A F125L                      2   \n",
       "5            TTC125TTG TCT200TTG       F125L S200L                      2   \n",
       "6            TTC125TTG GGT172GTT       F125L G172V                      2   \n",
       "7             AAT13TTG TTC125TTG        N13L F125L                      2   \n",
       "8             TAT35TGG TTC125TTG        Y35W F125L                      2   \n",
       "9                      TTC125TTG             F125L                      1   \n",
       "10           TTC125TTG TGT158GCT       F125L C158A                      2   \n",
       "11           TTC125TTG TTG131TCT       F125L L131S                      2   \n",
       "\n",
       "    n_aa_substitutions  \n",
       "0                    2  \n",
       "1                    3  \n",
       "2                    2  \n",
       "3                    2  \n",
       "4                    2  \n",
       "5                    2  \n",
       "6                    2  \n",
       "7                    2  \n",
       "8                    2  \n",
       "9                    1  \n",
       "10                   2  \n",
       "11                   2  "
      ]
     },
     "execution_count": 47,
     "metadata": {},
     "output_type": "execute_result"
    }
   ],
   "source": [
    "variants = dms_variants.codonvarianttable.CodonVariantTable(\n",
    "                barcode_variant_file=config['nt_variant_table_file_' + background],\n",
    "                geneseq=geneseq,\n",
    "                primary_target=background,\n",
    "                allowgaps=True,\n",
    "                )\n",
    "\n",
    "variants.barcode_variant_df.head(n=12)"
   ]
  },
  {
   "cell_type": "markdown",
   "metadata": {},
   "source": [
    "### Basic stats on variants\n",
    "We now will analyze the variants.\n",
    "In this call and in the plots below, we set `samples=None` as we aren't looking at variant counts in specific samples, but are simply looking at properties of the variants in the table.\n",
    "\n",
    "Here are the number of variants for each target:"
   ]
  },
  {
   "cell_type": "code",
   "execution_count": 48,
   "metadata": {
    "execution": {
     "iopub.execute_input": "2024-02-16T00:51:32.811770Z",
     "iopub.status.busy": "2024-02-16T00:51:32.811392Z",
     "iopub.status.idle": "2024-02-16T00:51:34.167682Z",
     "shell.execute_reply": "2024-02-16T00:51:34.166896Z"
    }
   },
   "outputs": [
    {
     "data": {
      "text/html": [
       "<table border=\"1\" class=\"dataframe\">\n",
       "  <thead>\n",
       "    <tr style=\"text-align: right;\">\n",
       "      <th>library</th>\n",
       "      <th>pool1</th>\n",
       "      <th>pool2</th>\n",
       "      <th>all libraries</th>\n",
       "    </tr>\n",
       "    <tr>\n",
       "      <th>target</th>\n",
       "      <th></th>\n",
       "      <th></th>\n",
       "      <th></th>\n",
       "    </tr>\n",
       "  </thead>\n",
       "  <tbody>\n",
       "    <tr>\n",
       "      <th>FLip</th>\n",
       "      <td>103977</td>\n",
       "      <td>101239</td>\n",
       "      <td>205216</td>\n",
       "    </tr>\n",
       "  </tbody>\n",
       "</table>"
      ],
      "text/plain": [
       "<IPython.core.display.HTML object>"
      ]
     },
     "metadata": {},
     "output_type": "display_data"
    }
   ],
   "source": [
    "display(HTML(\n",
    "    variants\n",
    "    .n_variants_df(samples=None)\n",
    "    .pivot_table(index=['target'],\n",
    "                 columns='library',\n",
    "                 values='count')\n",
    "    .to_html()\n",
    "    ))"
   ]
  },
  {
   "cell_type": "markdown",
   "metadata": {},
   "source": [
    "Plot the number of variants supported by each number of CCSs:"
   ]
  },
  {
   "cell_type": "code",
   "execution_count": 49,
   "metadata": {
    "execution": {
     "iopub.execute_input": "2024-02-16T00:51:34.171019Z",
     "iopub.status.busy": "2024-02-16T00:51:34.170665Z",
     "iopub.status.idle": "2024-02-16T00:51:36.885753Z",
     "shell.execute_reply": "2024-02-16T00:51:36.885033Z"
    }
   },
   "outputs": [
    {
     "data": {
      "image/png": "[encoded data removed]",
      "text/plain": [
       "<Figure size 572x207 with 3 Axes>"
      ]
     },
     "metadata": {},
     "output_type": "display_data"
    }
   ],
   "source": [
    "max_support = 10  # group variants with >= this much support\n",
    "\n",
    "p = variants.plotVariantSupportHistogram(max_support=max_support,\n",
    "                                         widthscale=1.1,\n",
    "                                         heightscale=0.9)\n",
    "p = p + theme(panel_grid_major_x=element_blank())  # no vertical grid lines\n",
    "_ = p.draw()"
   ]
  },
  {
   "cell_type": "markdown",
   "metadata": {},
   "source": [
    "### Mutations per variant\n",
    "Plot the number of barcoded variants with each number of amino-acid and codon mutations.\n",
    "This is for the primary target only, and doesn't include the spiked-in secondary targets:"
   ]
  },
  {
   "cell_type": "code",
   "execution_count": 50,
   "metadata": {
    "execution": {
     "iopub.execute_input": "2024-02-16T00:51:36.889076Z",
     "iopub.status.busy": "2024-02-16T00:51:36.888726Z",
     "iopub.status.idle": "2024-02-16T00:51:44.599707Z",
     "shell.execute_reply": "2024-02-16T00:51:44.598987Z"
    }
   },
   "outputs": [
    {
     "name": "stdout",
     "output_type": "stream",
     "text": [
      "Saving plot to results/figures/n_aa_muts_per_variant_FLip.pdf\n",
      "Saving plot to results/figures/n_codon_muts_per_variant_FLip.pdf\n"
     ]
    },
    {
     "data": {
      "image/png": "[encoded data removed]",
      "text/plain": [
       "<Figure size 605x189 with 3 Axes>"
      ]
     },
     "metadata": {},
     "output_type": "display_data"
    },
    {
     "data": {
      "image/png": "[encoded data removed]",
      "text/plain": [
       "<Figure size 605x189 with 3 Axes>"
      ]
     },
     "metadata": {},
     "output_type": "display_data"
    }
   ],
   "source": [
    "max_muts = 7  # group all variants with >= this many mutations\n",
    "\n",
    "for mut_type in ['aa', 'codon']:\n",
    "    p = variants.plotNumMutsHistogram(mut_type, samples=None, max_muts=max_muts,\n",
    "                                      widthscale=1.1,\n",
    "                                      heightscale=0.9)\n",
    "    p = p + theme(panel_grid_major_x=element_blank())  # no vertical grid lines\n",
    "    _ = p.draw()\n",
    "    plotfile = os.path.join(config['figs_dir'], f\"n_{mut_type}_muts_per_variant_\"+background+\".pdf\")\n",
    "    print(f\"Saving plot to {plotfile}\")\n",
    "    p.save(plotfile)"
   ]
  },
  {
   "cell_type": "markdown",
   "metadata": {},
   "source": [
    "Plot the frequencies of different codon mutation types among **all** variants (any number of mutations), again only for primary target:"
   ]
  },
  {
   "cell_type": "code",
   "execution_count": 51,
   "metadata": {
    "execution": {
     "iopub.execute_input": "2024-02-16T00:51:44.603304Z",
     "iopub.status.busy": "2024-02-16T00:51:44.602677Z",
     "iopub.status.idle": "2024-02-16T00:51:52.754970Z",
     "shell.execute_reply": "2024-02-16T00:51:52.754249Z"
    }
   },
   "outputs": [
    {
     "name": "stdout",
     "output_type": "stream",
     "text": [
      "Saving plot to results/figures/avg_muts_per_variant_FLip.pdf\n"
     ]
    },
    {
     "data": {
      "image/png": "[encoded data removed]",
      "text/plain": [
       "<Figure size 520x184 with 3 Axes>"
      ]
     },
     "metadata": {},
     "output_type": "display_data"
    }
   ],
   "source": [
    "p = variants.plotNumCodonMutsByType(variant_type='all', samples=None,\n",
    "                                    ylabel='mutations per variant',\n",
    "                                    heightscale=0.8)\n",
    "p = p + theme(panel_grid_major_x=element_blank())  # no vertical grid lines\n",
    "_ = p.draw()\n",
    "plotfile = os.path.join(config['figs_dir'], f\"avg_muts_per_variant_\"+background+\".pdf\")\n",
    "print(f\"Saving plot to {plotfile}\")\n",
    "p.save(plotfile)"
   ]
  },
  {
   "cell_type": "markdown",
   "metadata": {},
   "source": [
    "Variants supported by multiple PacBio CCSs should have fewer spurious mutations since sequencing errors are very unlikely to occur on two CCSs.\n",
    "Below we plot the number of codon mutations per variant among variants with at least two CCSs supporting their call.\n",
    "The difference in mutation rates here and in the plot above (that does not apply the `min_support=2` filter) gives some estimate of the frequency of mutations in our variants our spurious.\n",
    "In fact, we see the numbers are very similar, indicating that few of the mutations are spurious:"
   ]
  },
  {
   "cell_type": "code",
   "execution_count": 52,
   "metadata": {
    "execution": {
     "iopub.execute_input": "2024-02-16T00:51:52.758269Z",
     "iopub.status.busy": "2024-02-16T00:51:52.757922Z",
     "iopub.status.idle": "2024-02-16T00:51:57.562666Z",
     "shell.execute_reply": "2024-02-16T00:51:57.561932Z"
    }
   },
   "outputs": [
    {
     "data": {
      "image/png": "[encoded data removed]",
      "text/plain": [
       "<Figure size 520x184 with 3 Axes>"
      ]
     },
     "metadata": {},
     "output_type": "display_data"
    }
   ],
   "source": [
    "p = variants.plotNumCodonMutsByType(variant_type='all', samples=None,\n",
    "                                    ylabel='mutations per variant', \n",
    "                                    min_support=2, heightscale=0.8)\n",
    "p = p + theme(panel_grid_major_x=element_blank())  # no vertical grid lines\n",
    "_ = p.draw()"
   ]
  },
  {
   "cell_type": "markdown",
   "metadata": {},
   "source": [
    "### Completeness of mutation sampling\n",
    "We examine how completely amino-acid mutations are sampled by the variants for the primary target, looking at single-mutant variants only and all variants.\n",
    "The plot below shows that virtually every mutation is found in a variant in each library, even if we just look among the single mutants.\n",
    "Things look especially good if we aggregate across libraries:"
   ]
  },
  {
   "cell_type": "code",
   "execution_count": 53,
   "metadata": {
    "execution": {
     "iopub.execute_input": "2024-02-16T00:51:57.565979Z",
     "iopub.status.busy": "2024-02-16T00:51:57.565629Z",
     "iopub.status.idle": "2024-02-16T00:52:07.501030Z",
     "shell.execute_reply": "2024-02-16T00:52:07.500312Z"
    }
   },
   "outputs": [
    {
     "name": "stdout",
     "output_type": "stream",
     "text": [
      "Saving plot to results/figures/variant_cumul_all_mut_coverage_FLip.pdf\n",
      "Saving plot to results/figures/variant_cumul_single_mut_coverage_FLip.pdf\n"
     ]
    },
    {
     "data": {
      "image/png": "[encoded data removed]",
      "text/plain": [
       "<Figure size 550x220 with 3 Axes>"
      ]
     },
     "metadata": {},
     "output_type": "display_data"
    },
    {
     "data": {
      "image/png": "[encoded data removed]",
      "text/plain": [
       "<Figure size 550x220 with 3 Axes>"
      ]
     },
     "metadata": {},
     "output_type": "display_data"
    }
   ],
   "source": [
    "for variant_type in ['all', 'single']:\n",
    "    p = variants.plotCumulMutCoverage(variant_type, mut_type='aa', samples=None)\n",
    "    _ = p.draw()\n",
    "    plotfile = os.path.join(config['figs_dir'],\n",
    "                            f\"variant_cumul_{variant_type}_mut_coverage_\"+background+\".pdf\")\n",
    "    print(f\"Saving plot to {plotfile}\")\n",
    "    p.save(plotfile)"
   ]
  },
  {
   "cell_type": "markdown",
   "metadata": {},
   "source": [
    "To get more quantitative information like that plotted above, we determine how many mutations are found 0, 1, or >1 times both among single and all mutants for the primary target:"
   ]
  },
  {
   "cell_type": "code",
   "execution_count": 54,
   "metadata": {
    "execution": {
     "iopub.execute_input": "2024-02-16T00:52:07.504356Z",
     "iopub.status.busy": "2024-02-16T00:52:07.504006Z",
     "iopub.status.idle": "2024-02-16T00:52:13.372108Z",
     "shell.execute_reply": "2024-02-16T00:52:13.371323Z"
    }
   },
   "outputs": [
    {
     "data": {
      "text/html": [
       "<table border=\"1\" class=\"dataframe\">\n",
       "  <thead>\n",
       "    <tr style=\"text-align: right;\">\n",
       "      <th></th>\n",
       "      <th></th>\n",
       "      <th></th>\n",
       "      <th></th>\n",
       "      <th>number_of_mutations</th>\n",
       "    </tr>\n",
       "    <tr>\n",
       "      <th>variant_type</th>\n",
       "      <th>include_stops</th>\n",
       "      <th>library</th>\n",
       "      <th>count</th>\n",
       "      <th></th>\n",
       "    </tr>\n",
       "  </thead>\n",
       "  <tbody>\n",
       "    <tr>\n",
       "      <th rowspan=\"18\" valign=\"top\">all</th>\n",
       "      <th rowspan=\"9\" valign=\"top\">False</th>\n",
       "      <th rowspan=\"3\" valign=\"top\">pool1</th>\n",
       "      <th>0</th>\n",
       "      <td>8</td>\n",
       "    </tr>\n",
       "    <tr>\n",
       "      <th>1</th>\n",
       "      <td>1</td>\n",
       "    </tr>\n",
       "    <tr>\n",
       "      <th>&gt;1</th>\n",
       "      <td>4011</td>\n",
       "    </tr>\n",
       "    <tr>\n",
       "      <th rowspan=\"3\" valign=\"top\">pool2</th>\n",
       "      <th>0</th>\n",
       "      <td>8</td>\n",
       "    </tr>\n",
       "    <tr>\n",
       "      <th>1</th>\n",
       "      <td>2</td>\n",
       "    </tr>\n",
       "    <tr>\n",
       "      <th>&gt;1</th>\n",
       "      <td>4010</td>\n",
       "    </tr>\n",
       "    <tr>\n",
       "      <th rowspan=\"3\" valign=\"top\">all libraries</th>\n",
       "      <th>0</th>\n",
       "      <td>8</td>\n",
       "    </tr>\n",
       "    <tr>\n",
       "      <th>1</th>\n",
       "      <td>0</td>\n",
       "    </tr>\n",
       "    <tr>\n",
       "      <th>&gt;1</th>\n",
       "      <td>4012</td>\n",
       "    </tr>\n",
       "    <tr>\n",
       "      <th rowspan=\"9\" valign=\"top\">True</th>\n",
       "      <th rowspan=\"3\" valign=\"top\">pool1</th>\n",
       "      <th>0</th>\n",
       "      <td>143</td>\n",
       "    </tr>\n",
       "    <tr>\n",
       "      <th>1</th>\n",
       "      <td>19</td>\n",
       "    </tr>\n",
       "    <tr>\n",
       "      <th>&gt;1</th>\n",
       "      <td>4059</td>\n",
       "    </tr>\n",
       "    <tr>\n",
       "      <th rowspan=\"3\" valign=\"top\">pool2</th>\n",
       "      <th>0</th>\n",
       "      <td>142</td>\n",
       "    </tr>\n",
       "    <tr>\n",
       "      <th>1</th>\n",
       "      <td>21</td>\n",
       "    </tr>\n",
       "    <tr>\n",
       "      <th>&gt;1</th>\n",
       "      <td>4058</td>\n",
       "    </tr>\n",
       "    <tr>\n",
       "      <th rowspan=\"3\" valign=\"top\">all libraries</th>\n",
       "      <th>0</th>\n",
       "      <td>124</td>\n",
       "    </tr>\n",
       "    <tr>\n",
       "      <th>1</th>\n",
       "      <td>30</td>\n",
       "    </tr>\n",
       "    <tr>\n",
       "      <th>&gt;1</th>\n",
       "      <td>4067</td>\n",
       "    </tr>\n",
       "    <tr>\n",
       "      <th rowspan=\"18\" valign=\"top\">single</th>\n",
       "      <th rowspan=\"9\" valign=\"top\">False</th>\n",
       "      <th rowspan=\"3\" valign=\"top\">pool1</th>\n",
       "      <th>0</th>\n",
       "      <td>3988</td>\n",
       "    </tr>\n",
       "    <tr>\n",
       "      <th>1</th>\n",
       "      <td>11</td>\n",
       "    </tr>\n",
       "    <tr>\n",
       "      <th>&gt;1</th>\n",
       "      <td>21</td>\n",
       "    </tr>\n",
       "    <tr>\n",
       "      <th rowspan=\"3\" valign=\"top\">pool2</th>\n",
       "      <th>0</th>\n",
       "      <td>3992</td>\n",
       "    </tr>\n",
       "    <tr>\n",
       "      <th>1</th>\n",
       "      <td>7</td>\n",
       "    </tr>\n",
       "    <tr>\n",
       "      <th>&gt;1</th>\n",
       "      <td>21</td>\n",
       "    </tr>\n",
       "    <tr>\n",
       "      <th rowspan=\"3\" valign=\"top\">all libraries</th>\n",
       "      <th>0</th>\n",
       "      <td>3980</td>\n",
       "    </tr>\n",
       "    <tr>\n",
       "      <th>1</th>\n",
       "      <td>18</td>\n",
       "    </tr>\n",
       "    <tr>\n",
       "      <th>&gt;1</th>\n",
       "      <td>22</td>\n",
       "    </tr>\n",
       "    <tr>\n",
       "      <th rowspan=\"9\" valign=\"top\">True</th>\n",
       "      <th rowspan=\"3\" valign=\"top\">pool1</th>\n",
       "      <th>0</th>\n",
       "      <td>4189</td>\n",
       "    </tr>\n",
       "    <tr>\n",
       "      <th>1</th>\n",
       "      <td>11</td>\n",
       "    </tr>\n",
       "    <tr>\n",
       "      <th>&gt;1</th>\n",
       "      <td>21</td>\n",
       "    </tr>\n",
       "    <tr>\n",
       "      <th rowspan=\"3\" valign=\"top\">pool2</th>\n",
       "      <th>0</th>\n",
       "      <td>4193</td>\n",
       "    </tr>\n",
       "    <tr>\n",
       "      <th>1</th>\n",
       "      <td>7</td>\n",
       "    </tr>\n",
       "    <tr>\n",
       "      <th>&gt;1</th>\n",
       "      <td>21</td>\n",
       "    </tr>\n",
       "    <tr>\n",
       "      <th rowspan=\"3\" valign=\"top\">all libraries</th>\n",
       "      <th>0</th>\n",
       "      <td>4181</td>\n",
       "    </tr>\n",
       "    <tr>\n",
       "      <th>1</th>\n",
       "      <td>18</td>\n",
       "    </tr>\n",
       "    <tr>\n",
       "      <th>&gt;1</th>\n",
       "      <td>22</td>\n",
       "    </tr>\n",
       "  </tbody>\n",
       "</table>"
      ],
      "text/plain": [
       "<IPython.core.display.HTML object>"
      ]
     },
     "metadata": {},
     "output_type": "display_data"
    }
   ],
   "source": [
    "count_dfs = []\n",
    "for variant_type in ['all', 'single']:\n",
    "    i_counts = (variants.mutCounts(variant_type, mut_type='aa', samples=None)\n",
    "                .assign(variant_type=variant_type)\n",
    "                )\n",
    "    count_dfs += [i_counts.assign(include_stops=True),\n",
    "                  i_counts\n",
    "                  .query('not mutation.str.contains(\"\\*\")', engine='python')\n",
    "                  .assign(include_stops=False)\n",
    "                  ]\n",
    "    \n",
    "display(HTML(\n",
    "    pd.concat(count_dfs)\n",
    "    .assign(count=lambda x: (numpy.clip(x['count'], None, 2)\n",
    "                             .map({0: '0', 1: '1', 2:'>1'}))\n",
    "            )\n",
    "    .groupby(['variant_type', 'include_stops', 'library', 'count'])\n",
    "    .aggregate(number_of_mutations=pd.NamedAgg(column='mutation', aggfunc='count'))\n",
    "    .to_html()\n",
    "    ))"
   ]
  },
  {
   "cell_type": "markdown",
   "metadata": {},
   "source": [
    "### Mutation frequencies along gene\n",
    "We plot the frequencies of mutations along the gene among the variants for the primary target.\n",
    "Ideally, this would be uniform.\n",
    "We make the plot for both all variants and single-mutant / wildtype variants:"
   ]
  },
  {
   "cell_type": "code",
   "execution_count": 55,
   "metadata": {
    "execution": {
     "iopub.execute_input": "2024-02-16T00:52:13.375451Z",
     "iopub.status.busy": "2024-02-16T00:52:13.375085Z",
     "iopub.status.idle": "2024-02-16T00:52:27.404858Z",
     "shell.execute_reply": "2024-02-16T00:52:27.404141Z"
    }
   },
   "outputs": [
    {
     "name": "stdout",
     "output_type": "stream",
     "text": [
      "Saving plot to results/figures/avg_muts_per_variant_FLip_all.pdf\n",
      "Saving plot to results/figures/avg_muts_per_variant_FLip_single.pdf\n"
     ]
    },
    {
     "data": {
      "image/png": "[encoded data removed]",
      "text/plain": [
       "<Figure size 700x180 with 3 Axes>"
      ]
     },
     "metadata": {},
     "output_type": "display_data"
    },
    {
     "data": {
      "image/png": "[encoded data removed]",
      "text/plain": [
       "<Figure size 700x180 with 3 Axes>"
      ]
     },
     "metadata": {},
     "output_type": "display_data"
    }
   ],
   "source": [
    "for variant_type in ['all', 'single']:\n",
    "    p = variants.plotMutFreqs(variant_type, mut_type='codon', samples=None)\n",
    "    p.draw()\n",
    "    plotfile = os.path.join(config['figs_dir'], f\"avg_muts_per_variant_\"+background+'_'+variant_type+\".pdf\")\n",
    "    print(f\"Saving plot to {plotfile}\")\n",
    "    p.save(plotfile)\n",
    "    "
   ]
  },
  {
   "cell_type": "markdown",
   "metadata": {},
   "source": [
    "We can also use heat maps to examine the extent to which specific amino-acid or codon mutations are over-represented.\n",
    "These heat maps are large, so we make them just for all variants and the merge of all libraries:"
   ]
  },
  {
   "cell_type": "code",
   "execution_count": 56,
   "metadata": {
    "execution": {
     "iopub.execute_input": "2024-02-16T00:52:27.408193Z",
     "iopub.status.busy": "2024-02-16T00:52:27.407837Z",
     "iopub.status.idle": "2024-02-16T00:52:46.604564Z",
     "shell.execute_reply": "2024-02-16T00:52:46.603825Z"
    }
   },
   "outputs": [
    {
     "data": {
      "image/png": "[encoded data removed]",
      "text/plain": [
       "<Figure size 2420x250 with 3 Axes>"
      ]
     },
     "metadata": {},
     "output_type": "display_data"
    },
    {
     "data": {
      "image/png": "[encoded data removed]",
      "text/plain": [
       "<Figure size 2420x630 with 3 Axes>"
      ]
     },
     "metadata": {},
     "output_type": "display_data"
    }
   ],
   "source": [
    "for mut_type in ['aa', 'codon']:\n",
    "    p = variants.plotMutHeatmap('all', mut_type, samples=None, #libraries='all_only',\n",
    "                                widthscale=2)\n",
    "    p.draw()"
   ]
  },
  {
   "cell_type": "markdown",
   "metadata": {},
   "source": [
    "### Write codon-variant table\n",
    "We write the codon variant table to a CSV file.\n",
    "This table looks like this:"
   ]
  },
  {
   "cell_type": "code",
   "execution_count": 57,
   "metadata": {
    "execution": {
     "iopub.execute_input": "2024-02-16T00:52:46.607908Z",
     "iopub.status.busy": "2024-02-16T00:52:46.607549Z",
     "iopub.status.idle": "2024-02-16T00:52:46.617158Z",
     "shell.execute_reply": "2024-02-16T00:52:46.616419Z"
    }
   },
   "outputs": [
    {
     "data": {
      "text/html": [
       "<table border=\"1\" class=\"dataframe\">\n",
       "  <thead>\n",
       "    <tr style=\"text-align: right;\">\n",
       "      <th>target</th>\n",
       "      <th>library</th>\n",
       "      <th>barcode</th>\n",
       "      <th>variant_call_support</th>\n",
       "      <th>codon_substitutions</th>\n",
       "      <th>aa_substitutions</th>\n",
       "      <th>n_codon_substitutions</th>\n",
       "      <th>n_aa_substitutions</th>\n",
       "    </tr>\n",
       "  </thead>\n",
       "  <tbody>\n",
       "    <tr>\n",
       "      <td>FLip</td>\n",
       "      <td>pool1</td>\n",
       "      <td>AAAAAAAAAAGATTGT</td>\n",
       "      <td>3</td>\n",
       "      <td>TTC125TTG AGA179GGT</td>\n",
       "      <td>F125L R179G</td>\n",
       "      <td>2</td>\n",
       "      <td>2</td>\n",
       "    </tr>\n",
       "    <tr>\n",
       "      <td>FLip</td>\n",
       "      <td>pool1</td>\n",
       "      <td>AAAAAAAAACAATTGT</td>\n",
       "      <td>1</td>\n",
       "      <td>AGA27ACT TTC125TTG TTC134GGT</td>\n",
       "      <td>R27T F125L F134G</td>\n",
       "      <td>3</td>\n",
       "      <td>3</td>\n",
       "    </tr>\n",
       "    <tr>\n",
       "      <td>FLip</td>\n",
       "      <td>pool1</td>\n",
       "      <td>AAAAAAAAACTATACA</td>\n",
       "      <td>1</td>\n",
       "      <td>CAA79TGG TTC125TTG</td>\n",
       "      <td>Q79W F125L</td>\n",
       "      <td>2</td>\n",
       "      <td>2</td>\n",
       "    </tr>\n",
       "    <tr>\n",
       "      <td>FLip</td>\n",
       "      <td>pool1</td>\n",
       "      <td>AAAAAAAAAGAAAGTT</td>\n",
       "      <td>1</td>\n",
       "      <td>TTG57GAT TTC125TTG</td>\n",
       "      <td>L57D F125L</td>\n",
       "      <td>2</td>\n",
       "      <td>2</td>\n",
       "    </tr>\n",
       "    <tr>\n",
       "      <td>FLip</td>\n",
       "      <td>pool1</td>\n",
       "      <td>AAAAAAAAAGACTTCT</td>\n",
       "      <td>3</td>\n",
       "      <td>GTT52GCT TTC125TTG</td>\n",
       "      <td>V52A F125L</td>\n",
       "      <td>2</td>\n",
       "      <td>2</td>\n",
       "    </tr>\n",
       "  </tbody>\n",
       "</table>"
      ],
      "text/plain": [
       "<IPython.core.display.HTML object>"
      ]
     },
     "metadata": {},
     "output_type": "display_data"
    }
   ],
   "source": [
    "display(HTML(\n",
    "    variants.barcode_variant_df\n",
    "    .head()\n",
    "    .to_html(index=False)\n",
    "    ))"
   ]
  },
  {
   "cell_type": "markdown",
   "metadata": {},
   "source": [
    "Note how this table differs from the nucleotide variant table we generated above and used to initialize the [CodonVariantTable](https://jbloomlab.github.io/dms_variants/dms_variants.codonvarianttable.html#dms_variants.codonvarianttable.CodonVariantTable) in that it gives **codon** substitutions and associated amino-acid substitutions.\n",
    "\n",
    "Write it to CSV file:"
   ]
  },
  {
   "cell_type": "code",
   "execution_count": 58,
   "metadata": {
    "execution": {
     "iopub.execute_input": "2024-02-16T00:52:46.620433Z",
     "iopub.status.busy": "2024-02-16T00:52:46.620021Z",
     "iopub.status.idle": "2024-02-16T00:52:48.062879Z",
     "shell.execute_reply": "2024-02-16T00:52:48.062090Z"
    }
   },
   "outputs": [
    {
     "name": "stdout",
     "output_type": "stream",
     "text": [
      "Writing codon-variant table to results/variants/codon_variant_table_FLip.csv\n"
     ]
    }
   ],
   "source": [
    "print(f\"Writing codon-variant table to {config['codon_variant_table_file_'+background]}\")\n",
    "\n",
    "variants.barcode_variant_df.to_csv(config['codon_variant_table_file_'+background], index=False)"
   ]
  },
  {
   "cell_type": "code",
   "execution_count": null,
   "metadata": {},
   "outputs": [],
   "source": []
  }
 ],
 "metadata": {
  "kernelspec": {
   "display_name": "Python 3 (ipykernel)",
   "language": "python",
   "name": "python3"
  },
  "language_info": {
   "codemirror_mode": {
    "name": "ipython",
    "version": 3
   },
   "file_extension": ".py",
   "mimetype": "text/x-python",
   "name": "python",
   "nbconvert_exporter": "python",
   "pygments_lexer": "ipython3",
   "version": "3.8.15"
  }
 },
 "nbformat": 4,
 "nbformat_minor": 4
}
